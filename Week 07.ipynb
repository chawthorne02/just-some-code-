{
 "cells": [
  {
   "cell_type": "markdown",
   "metadata": {},
   "source": [
    "## Creating and Instantiating a class"
   ]
  },
  {
   "cell_type": "code",
   "execution_count": 1,
   "metadata": {},
   "outputs": [],
   "source": [
    "# creating my first class\n",
    "class Car():\n",
    "    pass      # simply using as a placeholder until more code is added"
   ]
  },
  {
   "cell_type": "code",
   "execution_count": 2,
   "metadata": {},
   "outputs": [
    {
     "name": "stdout",
     "output_type": "stream",
     "text": [
      "<__main__.Car object at 0x7fd952867f10>\n"
     ]
    }
   ],
   "source": [
    "# instantiating an object from a class\n",
    "class Car():        # parens are optional here\n",
    "    pass\n",
    "ford = Car()        # creates an instance of the Car class and stores into the variable ford\n",
    "print(ford)"
   ]
  },
  {
   "cell_type": "code",
   "execution_count": 3,
   "metadata": {},
   "outputs": [
    {
     "name": "stdout",
     "output_type": "stream",
     "text": [
      "8785710583068\n",
      "8785710583074\n"
     ]
    }
   ],
   "source": [
    "# Instantiating multiple objects from the same class\n",
    "class Car():\n",
    "    pass\n",
    "ford = Car()\n",
    "subaru = Car()     # creates another object from the car class\n",
    "print(hash(ford))\n",
    "print(hash(subaru))   # hash outputs numerical representation of the location in memory for the variable\n"
   ]
  },
  {
   "cell_type": "markdown",
   "metadata": {},
   "source": [
    "## Monday Exercises"
   ]
  },
  {
   "cell_type": "code",
   "execution_count": 4,
   "metadata": {},
   "outputs": [
    {
     "name": "stdout",
     "output_type": "stream",
     "text": [
      "8785710583047\n",
      "8785710583044\n"
     ]
    }
   ],
   "source": [
    "class Animals():\n",
    "    pass\n",
    "lion = Animals()\n",
    "tiger = Animals()\n",
    "print(hash(lion))\n",
    "print(hash(tiger))"
   ]
  },
  {
   "cell_type": "code",
   "execution_count": 6,
   "metadata": {},
   "outputs": [
    {
     "name": "stdout",
     "output_type": "stream",
     "text": [
      "<__main__.Bus object at 0x7fd95288d310>\n"
     ]
    }
   ],
   "source": [
    "class Bus():\n",
    "    pass\n",
    "school_bus = Bus()\n",
    "print(school_bus)"
   ]
  },
  {
   "cell_type": "markdown",
   "metadata": {},
   "source": [
    "## Attributes"
   ]
  },
  {
   "cell_type": "code",
   "execution_count": 1,
   "metadata": {},
   "outputs": [
    {
     "name": "stdout",
     "output_type": "stream",
     "text": [
      "red\n"
     ]
    }
   ],
   "source": [
    "# how to define a class attribute\n",
    "class Car():\n",
    "    sound = \"beep\"    # all car objects will have this sound attribute and its value\n",
    "    color = \"red\"\n",
    "\n",
    "    \n",
    "ford = Car()\n",
    "print(ford.color)     # known as \"dot syntax\""
   ]
  },
  {
   "cell_type": "code",
   "execution_count": 3,
   "metadata": {},
   "outputs": [
    {
     "name": "stdout",
     "output_type": "stream",
     "text": [
      "beep\n",
      "honk\n"
     ]
    }
   ],
   "source": [
    "# changing the value of an attribute\n",
    "class Car():\n",
    "    sound = \"beep\"\n",
    "    color = \"red\"\n",
    "ford = Car()\n",
    "print(ford.sound)\n",
    "ford.sound = \"honk\"\n",
    "\n",
    "print(ford.sound)"
   ]
  },
  {
   "cell_type": "code",
   "execution_count": 2,
   "metadata": {},
   "outputs": [
    {
     "name": "stdout",
     "output_type": "stream",
     "text": [
      "blue\n"
     ]
    }
   ],
   "source": [
    "# using the init method to give instances personalized attributes upon creation\n",
    "class Car():\n",
    "   def __init__(self, color):    # init uses two underscores on each side\n",
    "        self.color = color\n",
    "        \n",
    "ford = Car(\"blue\")\n",
    "print(ford.color)"
   ]
  },
  {
   "cell_type": "code",
   "execution_count": 3,
   "metadata": {},
   "outputs": [
    {
     "name": "stdout",
     "output_type": "stream",
     "text": [
      "blue 2016\n",
      "red 2018\n"
     ]
    }
   ],
   "source": [
    "# defining different values for multiple instances\n",
    "class Car():\n",
    "    def __init__(self, color, year):\n",
    "        self.color = color\n",
    "        \n",
    "        self.year = year\n",
    "ford = Car(\"blue\", 2016)\n",
    "\n",
    "subaru = Car(\"red\", 2018)\n",
    "\n",
    "print(ford.color, ford.year)\n",
    "print(subaru.color, subaru.year)"
   ]
  },
  {
   "cell_type": "code",
   "execution_count": 4,
   "metadata": {},
   "outputs": [
    {
     "name": "stdout",
     "output_type": "stream",
     "text": [
      "beep\n",
      "beep blue\n"
     ]
    }
   ],
   "source": [
    "# using and accessing global class attributes\n",
    "class Car():\n",
    "    sound = \"beep\"\n",
    "    def __init__(self, color):\n",
    "        self.color = \"blue\"\n",
    "        \n",
    "print(Car.sound)\n",
    "# print(Car.color)  won't work, as color is only available to instances of the Car class, not the class itself\n",
    "\n",
    "ford = Car(\"blue\")\n",
    "print(ford.sound, ford.color)     # color will work as this is an instance"
   ]
  },
  {
   "cell_type": "markdown",
   "metadata": {},
   "source": [
    "## Tuesday Exercises"
   ]
  },
  {
   "cell_type": "code",
   "execution_count": 9,
   "metadata": {},
   "outputs": [
    {
     "name": "stdout",
     "output_type": "stream",
     "text": [
      "Sammi\n",
      "Casey\n"
     ]
    }
   ],
   "source": [
    "class Dog():\n",
    "    species = \"canine\"\n",
    "    def __init__(self, name, breed):\n",
    "        self.name = name\n",
    "        \n",
    "        self.breed = breed\n",
    "        \n",
    "Husky = Dog(\"Sammi\",\"Husky\")\n",
    "\n",
    "Chocolatelab = Dog(\"Casey\",\"Chocolate Lab\")\n",
    "\n",
    "print(Husky.name)\n",
    "print(Chocolatelab.name)"
   ]
  },
  {
   "cell_type": "code",
   "execution_count": 1,
   "metadata": {},
   "outputs": [
    {
     "name": "stdout",
     "output_type": "stream",
     "text": [
      "Please enter your name: Corey\n",
      "<__main__.Person object at 0x7ff966766fd0>\n"
     ]
    }
   ],
   "source": [
    "class Person():\n",
    "    name = input(\"Please enter your name: \")\n",
    "    def __init__(self, name):   \n",
    "        self.name = name\n",
    "\n",
    "corey = Person(\"name\")\n",
    "print(corey)"
   ]
  },
  {
   "cell_type": "markdown",
   "metadata": {},
   "source": [
    "## Methods"
   ]
  },
  {
   "cell_type": "code",
   "execution_count": 15,
   "metadata": {},
   "outputs": [
    {
     "name": "stdout",
     "output_type": "stream",
     "text": [
      "bark\n"
     ]
    }
   ],
   "source": [
    "# defining and calling a first class method\n",
    "class Dog():\n",
    "    def makeSound(self):\n",
    "        print(\"bark\")\n",
    "        \n",
    "sam = Dog()\n",
    "sam.makeSound()\n",
    "              "
   ]
  },
  {
   "cell_type": "code",
   "execution_count": 19,
   "metadata": {},
   "outputs": [
    {
     "name": "stdout",
     "output_type": "stream",
     "text": [
      "bark\n"
     ]
    }
   ],
   "source": [
    "# using the self keyword to access attributes within the class methods\n",
    "class Dog():\n",
    "    sound = \"bark\"\n",
    "    def makeSound(self):\n",
    "        print(self.sound)   # self required to access attributes defined in the class\n",
    "\n",
    "sam = Dog()\n",
    "sam.makeSound()"
   ]
  },
  {
   "cell_type": "code",
   "execution_count": 20,
   "metadata": {},
   "outputs": [
    {
     "name": "stdout",
     "output_type": "stream",
     "text": [
      "I am a dog.\n"
     ]
    }
   ],
   "source": [
    "# understanding which methods are accessible via the class itself and class instances\n",
    "class Dog():\n",
    "    sound = \"bark\"\n",
    "    def makeSound(self):\n",
    "        print(self.sound)\n",
    "    def printInfo():\n",
    "        print(\"I am a dog.\")\n",
    "Dog.printInfo()   # able to run because it does not include self parameter\n",
    "\n",
    "# Dog.makeSound  would produce error, self is in reference to instances only"
   ]
  },
  {
   "cell_type": "code",
   "execution_count": 21,
   "metadata": {},
   "outputs": [
    {
     "name": "stdout",
     "output_type": "stream",
     "text": [
      "6\n"
     ]
    }
   ],
   "source": [
    "# writing methods that accept parameters\n",
    "class Dog():\n",
    "    def showAge(self,age):\n",
    "        print(age)      # does not need self, age is referencing the parameter not an attribute\n",
    "\n",
    "sam = Dog()\n",
    "sam.showAge(6)  # passing the integer 6 as an arguement to the showAge method"
   ]
  },
  {
   "cell_type": "code",
   "execution_count": 22,
   "metadata": {},
   "outputs": [
    {
     "name": "stdout",
     "output_type": "stream",
     "text": [
      "Sammi\n"
     ]
    }
   ],
   "source": [
    "# using methods to set or return attribute values, proper programming practice\n",
    "class Dog():\n",
    "    name = \" \"  # would normally use init method to declare, this is for testing purposes\n",
    "    \n",
    "    def setName(self, new_name):\n",
    "        self.name = new_name    # declares the new value for the name attribute   \n",
    "    \n",
    "    def getName(self):\n",
    "        return self.name      # returns the value of the name attributes\n",
    "\n",
    "sam = Dog()\n",
    "sam.setName(\"Sammi\")\n",
    "print(sam.getName())         # prints the returned value of self.name"
   ]
  },
  {
   "cell_type": "code",
   "execution_count": 23,
   "metadata": {},
   "outputs": [
    {
     "name": "stdout",
     "output_type": "stream",
     "text": [
      "6\n"
     ]
    }
   ],
   "source": [
    "# incrementing/decrementing attribute values with methods, best programming practice\n",
    "class Dog():\n",
    "    age = 5\n",
    "    def happyBirthday(self):\n",
    "        self.age += 1\n",
    "        \n",
    "sam = Dog()\n",
    "sam.happyBirthday()    # calls method to increment value by one\n",
    "print(sam.age)        "
   ]
  },
  {
   "cell_type": "code",
   "execution_count": 24,
   "metadata": {},
   "outputs": [
    {
     "name": "stdout",
     "output_type": "stream",
     "text": [
      "Puppy!\n"
     ]
    }
   ],
   "source": [
    "# calling a class method from another method\n",
    "class Dog():\n",
    "    age = 6\n",
    "    def getAge(self):\n",
    "        return self.age\n",
    "    def printInfo(self):\n",
    "        if self.getAge() < 10:    # need self to call other method for an instance\n",
    "            \n",
    "            print(\"Puppy!\")\n",
    "            \n",
    "sam = Dog()\n",
    "sam.printInfo()"
   ]
  },
  {
   "cell_type": "code",
   "execution_count": 25,
   "metadata": {},
   "outputs": [
    {
     "name": "stdout",
     "output_type": "stream",
     "text": [
      "This is a dog class\n"
     ]
    }
   ],
   "source": [
    "# using magic methods\n",
    "class Dog():\n",
    "    def __str__(self):\n",
    "        return \"This is a dog class\"\n",
    "sam = Dog()\n",
    "print(sam)     # will print the return of the string magic method"
   ]
  },
  {
   "cell_type": "markdown",
   "metadata": {},
   "source": [
    "## Inheritance"
   ]
  },
  {
   "cell_type": "code",
   "execution_count": 2,
   "metadata": {},
   "outputs": [
    {
     "name": "stdout",
     "output_type": "stream",
     "text": [
      "roar\n"
     ]
    }
   ],
   "source": [
    "# inheriting a class and accessing the inherited method\n",
    "\n",
    "class Animal():\n",
    "    def makeSound(self):\n",
    "        print(\"roar\")\n",
    "\n",
    "class Dog(Animal):         # Inheriting Animal Class\n",
    "    species = \"canine\"\n",
    "\n",
    "sam = Dog()\n",
    "sam.makeSound()          # accessible through inheritance\n",
    "lion = Animal()"
   ]
  },
  {
   "cell_type": "code",
   "execution_count": 3,
   "metadata": {},
   "outputs": [
    {
     "name": "stdout",
     "output_type": "stream",
     "text": [
      "Canine\n"
     ]
    }
   ],
   "source": [
    "# using the super() method to declare inherited attributes\n",
    "\n",
    "class Animal():\n",
    "    def __init__(self,species):\n",
    "        self.species = species\n",
    "\n",
    "class Dog(Animal):\n",
    "    def __init__(self, species, name):\n",
    "        self.name = name\n",
    "        super().__init__(species)   #using super attribute to declare the species attribute defined in Animal\n",
    "        \n",
    "sam = Dog(\"Canine\", \"Sammi\")\n",
    "print(sam.species)"
   ]
  },
  {
   "cell_type": "code",
   "execution_count": 1,
   "metadata": {},
   "outputs": [
    {
     "name": "stdout",
     "output_type": "stream",
     "text": [
      "bark\n",
      "roar\n"
     ]
    }
   ],
   "source": [
    "# overriding methods defined in the superclass\n",
    "\n",
    "class Animal():\n",
    "    def makeSound(self):\n",
    "        print(\"roar\")\n",
    "class Dog(Animal):\n",
    "    def makeSound(self):\n",
    "        print(\"bark\")\n",
    "sam, lion = Dog(), Animal()\n",
    "\n",
    "sam.makeSound()\n",
    "lion.makeSound()"
   ]
  },
  {
   "cell_type": "code",
   "execution_count": 2,
   "metadata": {},
   "outputs": [
    {
     "name": "stdout",
     "output_type": "stream",
     "text": [
      "9.8 Ford\n"
     ]
    }
   ],
   "source": [
    "# inheriting multiple classes\n",
    "\n",
    "class Physics():\n",
    "    gravity = 9.8\n",
    "class Automobile():\n",
    "    def __init__(self, make, model, year):\n",
    "        self.make, self.model, self.year = make, model, year\n",
    "               # declaring all attributes on one line\n",
    "class Ford(Physics, Automobile): #able to access Physics and Automobile attributes and methods\n",
    "    def __init__(self, model, year):\n",
    "        Automobile.__init__(self, \"Ford\", model, year)\n",
    "        \n",
    "truck = Ford(\"F-150\", 2018)\n",
    "print(truck.gravity, truck.make)  #output both attributes\n",
    "\n",
    "# super does not work with multiple classes\n",
    "\n",
    "\n"
   ]
  },
  {
   "cell_type": "markdown",
   "metadata": {},
   "source": [
    "## Thursday Exercises"
   ]
  },
  {
   "cell_type": "code",
   "execution_count": 21,
   "metadata": {},
   "outputs": [
    {
     "name": "stdout",
     "output_type": "stream",
     "text": [
      "<__main__.GoodPlayers object at 0x7fb1c7e8cd00>\n",
      "<__main__.BadPlayers object at 0x7fb1c7e8ca00>\n"
     ]
    }
   ],
   "source": [
    "class Characters():\n",
    "    def __init__(self, name, team,  height, weight):\n",
    "        self.name = name\n",
    "        self.team = team\n",
    "        self.height = height\n",
    "        self.weight = weight\n",
    "    \n",
    "    def sayHello(self):\n",
    "        return \"Hello, my name is Max and I'm on the good guys.\"\n",
    "        \n",
    "class GoodPlayers(Characters):\n",
    "    def __init__sayHello(self):\n",
    "        self.team = \"Hello, my name is Max and I'm on the good guys.\"\n",
    "\n",
    "class BadPlayers(Characters):\n",
    "    def __init__sayHello(self):\n",
    "        self.team = \"Hello, my name is Tony and I'm on the bad guys.\"\n",
    "    \n",
    "Max = GoodPlayers(\"Max\", \"Good\", \"6 foot\", 145)\n",
    "Tony = BadPlayers(\"Tony\", \"Bad\", \"6 foot\", 144)\n",
    "\n",
    "print(Max)\n",
    "print(Tony)"
   ]
  },
  {
   "cell_type": "markdown",
   "metadata": {},
   "source": [
    "## Blackjack"
   ]
  },
  {
   "cell_type": "code",
   "execution_count": 6,
   "metadata": {},
   "outputs": [
    {
     "name": "stdout",
     "output_type": "stream",
     "text": [
      "\n",
      "Corey \n",
      "============\n",
      "3 of Diamonds\n",
      "Total = 22\n",
      "10 of Spades\n",
      "Total = 22\n",
      "A of Spades\n",
      "Total = 22\n",
      "8 of Diamonds\n",
      "Total = 22\n",
      "\n",
      "Dealer\n",
      "============\n",
      "You busted, better luck next time!\n"
     ]
    }
   ],
   "source": [
    "from random import randint\n",
    "from IPython.display import clear_output\n",
    "\n",
    "\n",
    "# blackjack class\n",
    "class Blackjack():\n",
    "    def __init__(self):\n",
    "        self.deck = []\n",
    "        self.suits = (\"Spades\", \"Hearts\", \"Diamonds\", \"Clubs\")\n",
    "        self.values = (2, 3, 4, 5, 6, 7, 8, 9, 10, \"J\", \"Q\", \"K\", \"A\")\n",
    "    \n",
    "# method that creates a deck of 52 cards each one with a tuple and suite\n",
    "    def makeDeck(self):\n",
    "            for suit in self.suits:\n",
    "                for value in self.values:\n",
    "                    self.deck.append( (value, suit) )\n",
    "# method to pop a card from deck using a random index value\n",
    "    def pullCard(self):\n",
    "            return self.deck.pop( randint(0, len(self.deck) -1) )\n",
    "\n",
    "#create a class for the dealer and player objects\n",
    "class Player():\n",
    "    def __init__(self, name):\n",
    "        self.name = name\n",
    "        self.hand = []            \n",
    "# take a tuple and append it to the hand\n",
    "    def addCard(self, card):\n",
    "        self.hand.append(card)\n",
    "# if not the dealer's turn then only show one of his cards, otherwise show all \n",
    "    def showHand(self, dealer_start = True):\n",
    "        print( \"\\n{}\".format(self.name))\n",
    "        print(\"============\")\n",
    "        for i in range(len(self.hand)):\n",
    "            if self.name == \"Dealer\" and i == 0 and dealer_start:\n",
    "                print(\"- of -\")\n",
    "            else:\n",
    "                card = self.hand[ i ]\n",
    "                print( \"{} of {}\".format(card[0], card[1]))\n",
    "                print(\"Total = {}\".format( self.calcHand(dealer_start)))\n",
    "    \n",
    "    def calcHand(self, dealer_start = True):\n",
    "        total = 0\n",
    "        aces = 0\n",
    "        card_values = {1:1, 2:2, 3:3, 4:4, 5:5, 6:6, 7:7, 8:8, 9:9, \n",
    "        10:10, \"J\":10, \"Q\":10, \"K\":10, \"A\":11 }\n",
    "        \n",
    "        if self.name == \"Dealer\" and dealer_start:\n",
    "            card = self.hand[ 1 ]\n",
    "            return card_values[ card[ 0 ] ]\n",
    "        for card in self.hand:\n",
    "            if card[ 0 ] == \"A\":\n",
    "                aces += 1\n",
    "                \n",
    "            else:\n",
    "                total += card_values[ card[ 0 ] ]\n",
    "        for i in range(aces):\n",
    "            if total + 11 > 21:\n",
    "                total += 1\n",
    "            \n",
    "            else:\n",
    "                total += 11\n",
    "        \n",
    "        return total\n",
    "game = Blackjack() \n",
    "game.makeDeck()\n",
    "name = input(\"What is your name?\")\n",
    "player = Player(name)\n",
    "dealer = Player(\"Dealer\")\n",
    "# add two cards to the dealer and player hand\n",
    "for i in range(2):\n",
    "    player.addCard( game.pullCard() )\n",
    "    player.showHand()\n",
    "    dealer.showHand()\n",
    "    player_bust = False  #variable to keep track of player going over 21\n",
    "    while input(\"Would you like to stay or hit?\").lower() != \"stay\":\n",
    "        clear_output()\n",
    "    player.addCard( game.pullCard() )\n",
    "    player.showHand()\n",
    "    dealer.showHand()\n",
    "    # check if over 21\n",
    "    if player.calcHand() > 21:\n",
    "        player_bust = True\n",
    "        break\n",
    "# handling the dealer's turn, only run if player didn't bust\n",
    "dealer_bust = False\n",
    "if not player_bust:\n",
    "    while dealer.calcHand(False) > 21:\n",
    "        dealer_bust = True\n",
    "        print(\"You Win!\")\n",
    "        break\n",
    "    dealer.addCard( game.pullCard() )\n",
    "    \n",
    "clear_output()\n",
    "player.showHand()\n",
    "dealer.showHand(False)\n",
    "\n",
    "if player_bust:\n",
    "    print(\"You busted, better luck next time!\")\n",
    "elif dealer_bust:\n",
    "    print(\"The dealer busted, you win!\")\n",
    "elif dealer.calcHand(False) > player.calcHand():\n",
    "    print(\"Dealer has higher cards, you lose!\")\n",
    "elif dealer.calcHand(False) < player.calcHand():\n",
    "    print(\"You beat the dealer! Congrats!\")\n",
    "else:\n",
    "    print(\"You pushed, no one wins!\")\n",
    "\n",
    " "
   ]
  },
  {
   "cell_type": "code",
   "execution_count": null,
   "metadata": {},
   "outputs": [],
   "source": []
  }
 ],
 "metadata": {
  "kernelspec": {
   "display_name": "Python 3",
   "language": "python",
   "name": "python3"
  },
  "language_info": {
   "codemirror_mode": {
    "name": "ipython",
    "version": 3
   },
   "file_extension": ".py",
   "mimetype": "text/x-python",
   "name": "python",
   "nbconvert_exporter": "python",
   "pygments_lexer": "ipython3",
   "version": "3.8.5"
  }
 },
 "nbformat": 4,
 "nbformat_minor": 4
}
