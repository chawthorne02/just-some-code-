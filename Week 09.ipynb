{
 "cells": [
  {
   "cell_type": "markdown",
   "metadata": {},
   "source": [
    "## Generators and Iterators"
   ]
  },
  {
   "cell_type": "code",
   "execution_count": 1,
   "metadata": {},
   "outputs": [
    {
     "name": "stdout",
     "output_type": "stream",
     "text": [
      "baseball\n",
      "soccer\n",
      "football\n",
      "hockey\n",
      "basketball\n"
     ]
    },
    {
     "ename": "StopIteration",
     "evalue": "",
     "output_type": "error",
     "traceback": [
      "\u001b[0;31m---------------------------------------------------------------------------\u001b[0m",
      "\u001b[0;31mStopIteration\u001b[0m                             Traceback (most recent call last)",
      "\u001b[0;32m<ipython-input-1-74c7da3915aa>\u001b[0m in \u001b[0;36m<module>\u001b[0;34m\u001b[0m\n\u001b[1;32m      6\u001b[0m \u001b[0;32mfor\u001b[0m \u001b[0mitem\u001b[0m \u001b[0;32min\u001b[0m \u001b[0mmy_iter\u001b[0m\u001b[0;34m:\u001b[0m\u001b[0;34m\u001b[0m\u001b[0;34m\u001b[0m\u001b[0m\n\u001b[1;32m      7\u001b[0m     \u001b[0mprint\u001b[0m\u001b[0;34m(\u001b[0m\u001b[0mitem\u001b[0m\u001b[0;34m)\u001b[0m\u001b[0;34m\u001b[0m\u001b[0;34m\u001b[0m\u001b[0m\n\u001b[0;32m----> 8\u001b[0;31m \u001b[0mprint\u001b[0m\u001b[0;34m(\u001b[0m \u001b[0mnext\u001b[0m\u001b[0;34m(\u001b[0m\u001b[0mmy_iter\u001b[0m\u001b[0;34m)\u001b[0m \u001b[0;34m)\u001b[0m\u001b[0;34m\u001b[0m\u001b[0;34m\u001b[0m\u001b[0m\n\u001b[0m",
      "\u001b[0;31mStopIteration\u001b[0m: "
     ]
    }
   ],
   "source": [
    "# creating a basic iterator from an iterable\n",
    "sports = [ \"baseball\", \"soccer\", \"football\", \"hockey\", \"basketball\" ]\n",
    "my_iter = iter(sports)\n",
    "print( next(my_iter) )\n",
    "print( next(my_iter) )\n",
    "for item in my_iter:\n",
    "    print(item)\n",
    "print( next(my_iter) )"
   ]
  },
  {
   "cell_type": "code",
   "execution_count": 2,
   "metadata": {},
   "outputs": [
    {
     "name": "stdout",
     "output_type": "stream",
     "text": [
      "a\n",
      "b\n",
      "c\n",
      "d\n",
      "e\n",
      "f\n",
      "g\n",
      "h\n",
      "i\n",
      "j\n",
      "k\n",
      "l\n",
      "m\n",
      "n\n",
      "o\n",
      "p\n",
      "q\n",
      "r\n",
      "s\n",
      "t\n",
      "u\n",
      "v\n",
      "w\n",
      "x\n",
      "y\n",
      "z\n"
     ]
    }
   ],
   "source": [
    "# creating my own iterator\n",
    "class Alphabet():\n",
    "    def __iter__(self):\n",
    "        self.letters = \"abcdefghijklmnopqrstuvwxyz\"\n",
    "        self.index = 0\n",
    "        return self\n",
    "    def __next__(self):\n",
    "        if self.index <= 25:\n",
    "            char = self.letters[ self.index ]\n",
    "            self.index += 1\n",
    "            return char\n",
    "        else:\n",
    "            raise StopIteration\n",
    "            \n",
    "for char in Alphabet():\n",
    "    print(char)\n",
    "        "
   ]
  },
  {
   "cell_type": "code",
   "execution_count": 2,
   "metadata": {},
   "outputs": [
    {
     "name": "stdout",
     "output_type": "stream",
     "text": [
      "Generator Start Value: 0\n",
      "For Loop X Value: 0\n",
      "Generator Start Value: 1\n",
      "For Loop X Value: 1\n",
      "Generator Start Value: 2\n",
      "For Loop X Value: 2\n",
      "Generator Start Value: 3\n",
      "For Loop X Value: 3\n",
      "Generator Start Value: 4\n",
      "For Loop X Value: 4\n"
     ]
    }
   ],
   "source": [
    "# creating our own range generator with start, stop, and step parameterse\n",
    "def myRange(stop, start=0, step=1):\n",
    "    while start < stop:\n",
    "        print(\"Generator Start Value: {}\". format(start))\n",
    "        yield start\n",
    "        start += step\n",
    "for x in myRange(5):\n",
    "    print(\"For Loop X Value: {}\".format(x) )"
   ]
  },
  {
   "cell_type": "markdown",
   "metadata": {},
   "source": [
    "# Monday Exercises"
   ]
  },
  {
   "cell_type": "code",
   "execution_count": 1,
   "metadata": {},
   "outputs": [
    {
     "name": "stdout",
     "output_type": "stream",
     "text": [
      "5\n",
      "4\n",
      "3\n",
      "2\n",
      "1\n"
     ]
    }
   ],
   "source": [
    "class RevIter:\n",
    "    def __init__(self):\n",
    "        self.nums = [1, 2, 3, 4, 5]\n",
    "        self.index = len(self.nums) - 1\n",
    "\n",
    "    def __iter__(self):\n",
    "        return self\n",
    "\n",
    "    def __next__(self):\n",
    "        if 0 <= self.index < len(self.nums):\n",
    "            count = self.nums[self.index]\n",
    "            self.index -= 1\n",
    "            return count\n",
    "        else:\n",
    "            raise StopIteration\n",
    "\n",
    "for i in RevIter():\n",
    "    print(i)\n",
    "        \n",
    "            \n",
    "    \n",
    "    "
   ]
  },
  {
   "cell_type": "code",
   "execution_count": 17,
   "metadata": {},
   "outputs": [
    {
     "name": "stdout",
     "output_type": "stream",
     "text": [
      "0\n",
      "1\n",
      "4\n",
      "9\n"
     ]
    }
   ],
   "source": [
    "def myRange(stop, start=0, step=1):\n",
    "    while start < stop:\n",
    "        yield start \n",
    "        start += step\n",
    "for i in range(4):\n",
    "    print(i ** 2)"
   ]
  },
  {
   "cell_type": "markdown",
   "metadata": {},
   "source": [
    "## Decorators"
   ]
  },
  {
   "cell_type": "code",
   "execution_count": 19,
   "metadata": {},
   "outputs": [
    {
     "name": "stdout",
     "output_type": "stream",
     "text": [
      "======\n",
      "Corey!\n",
      "======\n"
     ]
    }
   ],
   "source": [
    "# creating and applying my own decorator using the @ symbol\n",
    "def decorator(func):\n",
    "    def wrap():\n",
    "        print(\"======\")\n",
    "        func( )\n",
    "        print(\"======\")\n",
    "    return wrap\n",
    "@decorator\n",
    "def printName():\n",
    "    print(\"Corey!\")\n",
    "printName()"
   ]
  },
  {
   "cell_type": "code",
   "execution_count": 2,
   "metadata": {},
   "outputs": [
    {
     "name": "stdout",
     "output_type": "stream",
     "text": [
      "Hello!\n",
      "Hello!\n",
      "Hello!\n",
      "Hello!\n"
     ]
    }
   ],
   "source": [
    "# creating a decorator that takes in parameters\n",
    "def run_times(num):\n",
    "    def wrap(func):\n",
    "        for i in range(num):\n",
    "            func()\n",
    "    return wrap\n",
    "@run_times(4)\n",
    "def sayHello():\n",
    "    print(\"Hello!\")\n",
    "        \n",
    "    "
   ]
  },
  {
   "cell_type": "code",
   "execution_count": 4,
   "metadata": {},
   "outputs": [
    {
     "name": "stdout",
     "output_type": "stream",
     "text": [
      "Happy Birthday Corey, you are now 27.\n"
     ]
    }
   ],
   "source": [
    "# creating a decorator for a function that accepts parameters\n",
    "def birthday(func):\n",
    "    def wrap(name, age):\n",
    "        func(name, age + 1 )\n",
    "    return wrap\n",
    "@birthday\n",
    "def celebrate(name, age):\n",
    "    print( \"Happy Birthday {}, you are now {}.\".format(name, age) )\n",
    "celebrate(\"Corey\", 26)"
   ]
  },
  {
   "cell_type": "code",
   "execution_count": 10,
   "metadata": {},
   "outputs": [
    {
     "name": "stdout",
     "output_type": "stream",
     "text": [
      "What is the password?ilywpf\n",
      "Access granted, welcome Corey\n"
     ]
    }
   ],
   "source": [
    "# real world sim, restricting function access\n",
    "def login_required(func):\n",
    "    def wrap(user):\n",
    "        password = input(\"What is the password?\")\n",
    "        if password == user[\"password\"]:\n",
    "            func(user)\n",
    "            \n",
    "        else:\n",
    "            print(\"Access Denied\")\n",
    "    return wrap\n",
    "@login_required\n",
    "def restrictedFunc(user):\n",
    "    print(\"Access granted, welcome {}\".format(user[ \"name\" ]) )\n",
    "user = { \"name\" : \"Corey\", \"password\": \"ilywpf\" }\n",
    "restrictedFunc(user)"
   ]
  },
  {
   "cell_type": "markdown",
   "metadata": {},
   "source": [
    "## Tuesday Exercises"
   ]
  },
  {
   "cell_type": "code",
   "execution_count": 33,
   "metadata": {},
   "outputs": [
    {
     "name": "stdout",
     "output_type": "stream",
     "text": [
      "Please enter a number: 99\n",
      "Less than 100\n"
     ]
    }
   ],
   "source": [
    "def decorator(func):\n",
    "    def wrap():\n",
    "        user_input = input(\"Please enter a number: \")\n",
    "        if int(user_input) < 100:\n",
    "            func()\n",
    "    return wrap\n",
    "@decorator\n",
    "def numbers():\n",
    "    print(\"Less than 100\")\n",
    "    \n",
    "numbers()\n",
    "            \n",
    "    \n",
    "\n",
    "            "
   ]
  },
  {
   "cell_type": "code",
   "execution_count": 8,
   "metadata": {},
   "outputs": [
    {
     "name": "stdout",
     "output_type": "stream",
     "text": [
      "Hello! I am a laptop.\n"
     ]
    }
   ],
   "source": [
    "class Laptop():\n",
    "    def details(self):\n",
    "        print('Hello! I am a laptop.')\n",
    "\n",
    "laptop1 = Laptop()\n",
    "laptop1.details()"
   ]
  },
  {
   "cell_type": "markdown",
   "metadata": {},
   "source": [
    "## Modules        "
   ]
  },
  {
   "cell_type": "code",
   "execution_count": 1,
   "metadata": {
    "scrolled": true
   },
   "outputs": [
    {
     "name": "stdout",
     "output_type": "stream",
     "text": [
      "2\n",
      "3\n",
      "3.141592653589793\n"
     ]
    }
   ],
   "source": [
    "# import the entire math module \n",
    "import math\n",
    "print( math.floor(2.5) ) #rounds up\n",
    "print( math.ceil(2.5) )  #rounds down\n",
    "print(math.pi)"
   ]
  },
  {
   "cell_type": "code",
   "execution_count": 3,
   "metadata": {},
   "outputs": [
    {
     "name": "stdout",
     "output_type": "stream",
     "text": [
      "2\n",
      "3.141592653589793\n"
     ]
    }
   ],
   "source": [
    "# importing only variables and functions rather than an entire module, better efficiency\n",
    "from math import floor, pi\n",
    "print( floor(2.5) )\n",
    "print(pi) "
   ]
  },
  {
   "cell_type": "code",
   "execution_count": 4,
   "metadata": {},
   "outputs": [
    {
     "name": "stdout",
     "output_type": "stream",
     "text": [
      "2\n"
     ]
    }
   ],
   "source": [
    "# using the \"as\" keyword to create an alias for imports\n",
    "from math import floor as f\n",
    "print( f(2.5) )"
   ]
  },
  {
   "cell_type": "code",
   "execution_count": 8,
   "metadata": {},
   "outputs": [
    {
     "name": "stdout",
     "output_type": "stream",
     "text": [
      "5 10\n",
      "John Smith is 37 years old.\n"
     ]
    }
   ],
   "source": [
    "# using the run command to access my own module\n",
    "%run test.py.py\n",
    "print(length, width)\n",
    "printInfo(\"John Smith\", 37)"
   ]
  },
  {
   "cell_type": "markdown",
   "metadata": {},
   "source": [
    "## Wednesday Exercises"
   ]
  },
  {
   "cell_type": "code",
   "execution_count": 6,
   "metadata": {},
   "outputs": [
    {
     "name": "stdout",
     "output_type": "stream",
     "text": [
      "Time module imported\n"
     ]
    }
   ],
   "source": [
    "import time\n",
    "time.sleep(5)\n",
    "print(\"Time module imported\")"
   ]
  },
  {
   "cell_type": "code",
   "execution_count": 7,
   "metadata": {},
   "outputs": [
    {
     "data": {
      "text/plain": [
       "450"
      ]
     },
     "execution_count": 7,
     "metadata": {},
     "output_type": "execute_result"
    }
   ],
   "source": [
    "%run calcArea.py\n",
    "calcArea(15, 30)"
   ]
  },
  {
   "cell_type": "markdown",
   "metadata": {},
   "source": [
    "## Understanding Algorithmic Complexity"
   ]
  },
  {
   "cell_type": "code",
   "execution_count": 1,
   "metadata": {},
   "outputs": [],
   "source": [
    "# creating data collections to test for time complexity\n",
    "import time\n",
    "d = {}\n",
    "for i in range(10000000):\n",
    "    d[ i ] = \"value\"\n",
    "big_list = [ x for x in range (10000000) ] \n",
    "    "
   ]
  },
  {
   "cell_type": "code",
   "execution_count": 2,
   "metadata": {},
   "outputs": [
    {
     "name": "stdout",
     "output_type": "stream",
     "text": [
      "Found in dictionary\n",
      "Elasped time for dictionary: 0.000820159912109375\n",
      "Found in list\n",
      "Elasped time for list: 0.1655740737915039\n"
     ]
    }
   ],
   "source": [
    "# retrieving information and tracking time to see which is faster\n",
    "start_time = time.time()\n",
    "if 9999999 in d:\n",
    "    print(\"Found in dictionary\")\n",
    "end_time = time.time() - start_time\n",
    "print( \"Elasped time for dictionary: {}\".format(end_time) )\n",
    "start_time = time.time()\n",
    "if 9999999 in big_list:\n",
    "    print(\"Found in list\")\n",
    "end_time = time.time() - start_time\n",
    "print( \"Elasped time for list: {}\".format(end_time))\n"
   ]
  },
  {
   "cell_type": "code",
   "execution_count": 6,
   "metadata": {},
   "outputs": [
    {
     "ename": "IndentationError",
     "evalue": "unexpected indent (<ipython-input-6-fd5bda93e977>, line 17)",
     "output_type": "error",
     "traceback": [
      "\u001b[0;36m  File \u001b[0;32m\"<ipython-input-6-fd5bda93e977>\"\u001b[0;36m, line \u001b[0;32m17\u001b[0m\n\u001b[0;31m    [ j + 1 ] = aList\u001b[0m\n\u001b[0m    ^\u001b[0m\n\u001b[0;31mIndentationError\u001b[0m\u001b[0;31m:\u001b[0m unexpected indent\n"
     ]
    }
   ],
   "source": [
    "# testing bubble sort vs. Insertion sort\n",
    "def bubbleSort(aList):\n",
    "    for i in range( len(aList) ):\n",
    "        switched = False\n",
    "        for j in range( len(aList) - 1 ):\n",
    "            if aList[ j ] > aList[ j + 1 ]:\n",
    "                aList[ j ], aList[ j + 1 ] = aList[ j + 1 ], aList[ j ]\n",
    "                switched = True\n",
    "            if switched == False:\n",
    "                break\n",
    "    return aList\n",
    "def insertionSort(aList):\n",
    "    for i in range( 1, len(aList) ):\n",
    "        if aList[ i ] < aList[ i - 1 ]:\n",
    "            for j in range( i, 0, -1):\n",
    "                if aList[ j ] < aList[ j - 1 ]: aList[ j ], aList\n",
    "                    [ j + 1 ] = aList\n",
    "                    [ j + 1 ], aList[ j ]\n",
    "                else:\n",
    "                    break\n",
    "    return aList\n",
    "                "
   ]
  },
  {
   "cell_type": "code",
   "execution_count": 4,
   "metadata": {},
   "outputs": [
    {
     "name": "stdout",
     "output_type": "stream",
     "text": [
      "Elasped time for Bubble Sort: 0.005883932113647461\n"
     ]
    },
    {
     "ename": "ValueError",
     "evalue": "too many values to unpack (expected 2)",
     "output_type": "error",
     "traceback": [
      "\u001b[0;31m---------------------------------------------------------------------------\u001b[0m",
      "\u001b[0;31mValueError\u001b[0m                                Traceback (most recent call last)",
      "\u001b[0;32m<ipython-input-4-66e2dea2bf55>\u001b[0m in \u001b[0;36m<module>\u001b[0;34m\u001b[0m\n\u001b[1;32m      7\u001b[0m \u001b[0mprint\u001b[0m\u001b[0;34m(\u001b[0m\u001b[0;34m\"Elasped time for Bubble Sort: {}\"\u001b[0m\u001b[0;34m.\u001b[0m\u001b[0mformat\u001b[0m\u001b[0;34m(\u001b[0m\u001b[0mend_time\u001b[0m\u001b[0;34m)\u001b[0m \u001b[0;34m)\u001b[0m\u001b[0;34m\u001b[0m\u001b[0;34m\u001b[0m\u001b[0m\n\u001b[1;32m      8\u001b[0m \u001b[0mstart_time\u001b[0m \u001b[0;34m=\u001b[0m \u001b[0mtime\u001b[0m\u001b[0;34m.\u001b[0m\u001b[0mtime\u001b[0m\u001b[0;34m(\u001b[0m\u001b[0;34m)\u001b[0m\u001b[0;34m\u001b[0m\u001b[0;34m\u001b[0m\u001b[0m\n\u001b[0;32m----> 9\u001b[0;31m \u001b[0minsertionSort\u001b[0m\u001b[0;34m(\u001b[0m\u001b[0mnums\u001b[0m\u001b[0;34m)\u001b[0m\u001b[0;34m\u001b[0m\u001b[0;34m\u001b[0m\u001b[0m\n\u001b[0m\u001b[1;32m     10\u001b[0m \u001b[0mend_time\u001b[0m \u001b[0;34m=\u001b[0m \u001b[0mtime\u001b[0m\u001b[0;34m.\u001b[0m\u001b[0mtime\u001b[0m\u001b[0;34m(\u001b[0m\u001b[0;34m)\u001b[0m \u001b[0;34m-\u001b[0m \u001b[0mstart_time\u001b[0m\u001b[0;34m\u001b[0m\u001b[0;34m\u001b[0m\u001b[0m\n\u001b[1;32m     11\u001b[0m \u001b[0mprint\u001b[0m\u001b[0;34m(\u001b[0m\u001b[0;34m\"Elasped time for Insertion Sort: {}\"\u001b[0m\u001b[0;34m.\u001b[0m\u001b[0mformat\u001b[0m\u001b[0;34m(\u001b[0m\u001b[0mend_time\u001b[0m\u001b[0;34m)\u001b[0m \u001b[0;34m)\u001b[0m\u001b[0;34m\u001b[0m\u001b[0;34m\u001b[0m\u001b[0m\n",
      "\u001b[0;32m<ipython-input-3-acd256e46886>\u001b[0m in \u001b[0;36minsertionSort\u001b[0;34m(aList)\u001b[0m\n\u001b[1;32m     15\u001b[0m             \u001b[0;32mfor\u001b[0m \u001b[0mj\u001b[0m \u001b[0;32min\u001b[0m \u001b[0mrange\u001b[0m\u001b[0;34m(\u001b[0m \u001b[0mi\u001b[0m\u001b[0;34m,\u001b[0m \u001b[0;36m0\u001b[0m\u001b[0;34m,\u001b[0m \u001b[0;34m-\u001b[0m\u001b[0;36m1\u001b[0m\u001b[0;34m)\u001b[0m\u001b[0;34m:\u001b[0m\u001b[0;34m\u001b[0m\u001b[0;34m\u001b[0m\u001b[0m\n\u001b[1;32m     16\u001b[0m                 \u001b[0;32mif\u001b[0m \u001b[0maList\u001b[0m\u001b[0;34m[\u001b[0m \u001b[0mj\u001b[0m \u001b[0;34m]\u001b[0m \u001b[0;34m<\u001b[0m \u001b[0maList\u001b[0m\u001b[0;34m[\u001b[0m \u001b[0mj\u001b[0m \u001b[0;34m-\u001b[0m \u001b[0;36m1\u001b[0m \u001b[0;34m]\u001b[0m\u001b[0;34m:\u001b[0m\u001b[0;34m\u001b[0m\u001b[0;34m\u001b[0m\u001b[0m\n\u001b[0;32m---> 17\u001b[0;31m                     \u001b[0maList\u001b[0m\u001b[0;34m[\u001b[0m \u001b[0mj\u001b[0m \u001b[0;34m]\u001b[0m\u001b[0;34m,\u001b[0m \u001b[0maList\u001b[0m\u001b[0;34m[\u001b[0m \u001b[0mj\u001b[0m \u001b[0;34m+\u001b[0m \u001b[0;36m1\u001b[0m \u001b[0;34m]\u001b[0m \u001b[0;34m=\u001b[0m \u001b[0maList\u001b[0m\u001b[0;34m\u001b[0m\u001b[0;34m\u001b[0m\u001b[0m\n\u001b[0m\u001b[1;32m     18\u001b[0m                     \u001b[0;34m[\u001b[0m \u001b[0mj\u001b[0m \u001b[0;34m+\u001b[0m \u001b[0;36m1\u001b[0m \u001b[0;34m]\u001b[0m\u001b[0;34m,\u001b[0m \u001b[0maList\u001b[0m\u001b[0;34m[\u001b[0m \u001b[0mj\u001b[0m \u001b[0;34m]\u001b[0m\u001b[0;34m\u001b[0m\u001b[0;34m\u001b[0m\u001b[0m\n\u001b[1;32m     19\u001b[0m                 \u001b[0;32melse\u001b[0m\u001b[0;34m:\u001b[0m\u001b[0;34m\u001b[0m\u001b[0;34m\u001b[0m\u001b[0m\n",
      "\u001b[0;31mValueError\u001b[0m: too many values to unpack (expected 2)"
     ]
    }
   ],
   "source": [
    "# calling a bubble sort and insertion sort to test time complexity\n",
    "from random import randint\n",
    "nums = [ randint(0, 100) for x in range(5000) ]\n",
    "start_time = time.time()\n",
    "bubbleSort(nums)\n",
    "end_time = time.time() - start_time\n",
    "print(\"Elasped time for Bubble Sort: {}\".format(end_time) )\n",
    "start_time = time.time()\n",
    "insertionSort(nums)\n",
    "end_time = time.time() - start_time\n",
    "print(\"Elasped time for Insertion Sort: {}\".format(end_time) )"
   ]
  },
  {
   "cell_type": "code",
   "execution_count": null,
   "metadata": {},
   "outputs": [],
   "source": []
  }
 ],
 "metadata": {
  "kernelspec": {
   "display_name": "Python 3",
   "language": "python",
   "name": "python3"
  },
  "language_info": {
   "codemirror_mode": {
    "name": "ipython",
    "version": 3
   },
   "file_extension": ".py",
   "mimetype": "text/x-python",
   "name": "python",
   "nbconvert_exporter": "python",
   "pygments_lexer": "ipython3",
   "version": "3.8.5"
  }
 },
 "nbformat": 4,
 "nbformat_minor": 4
}
