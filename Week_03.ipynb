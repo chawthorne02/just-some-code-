{
 "cells": [
  {
   "cell_type": "markdown",
   "metadata": {},
   "source": [
    "# User Input & Type Converting"
   ]
  },
  {
   "cell_type": "code",
   "execution_count": 1,
   "metadata": {},
   "outputs": [
    {
     "name": "stdout",
     "output_type": "stream",
     "text": [
      "What is your name? Corey\n",
      "Corey\n"
     ]
    }
   ],
   "source": [
    "# accepting and outputting user input\n",
    "print( input(\"What is your name? \"))"
   ]
  },
  {
   "cell_type": "code",
   "execution_count": 3,
   "metadata": {},
   "outputs": [
    {
     "name": "stdout",
     "output_type": "stream",
     "text": [
      "What is your name?Corey\n",
      "Hello Corey!\n"
     ]
    }
   ],
   "source": [
    "# saving what the user inputs\n",
    "ans = input(\"What is your name?\")\n",
    "print(\"Hello {}!\".format(ans) )"
   ]
  },
  {
   "cell_type": "code",
   "execution_count": 4,
   "metadata": {},
   "outputs": [
    {
     "name": "stdout",
     "output_type": "stream",
     "text": [
      "<class 'int'>\n"
     ]
    }
   ],
   "source": [
    "# how to check the data type of a variable\n",
    "num = 4\n",
    "print( type(num) )"
   ]
  },
  {
   "cell_type": "code",
   "execution_count": 5,
   "metadata": {},
   "outputs": [
    {
     "name": "stdout",
     "output_type": "stream",
     "text": [
      "<class 'int'>\n"
     ]
    }
   ],
   "source": [
    "# converting a variable to from one data type to another\n",
    "num = \"4\"\n",
    "num = int(num)   # re-declaring num to store an integer\n",
    "print( type(num) )  # checking type to make sure conversion worked\n"
   ]
  },
  {
   "cell_type": "code",
   "execution_count": 6,
   "metadata": {},
   "outputs": [
    {
     "name": "stdout",
     "output_type": "stream",
     "text": [
      "Type a number to add: 4\n",
      "<class 'str'>\n",
      "100 + 4 = 104\n"
     ]
    }
   ],
   "source": [
    "# working with user input to perform calculations \n",
    "ans = input(\"Type a number to add: \")\n",
    "print( type(ans) )    #default type is string, must convert\n",
    "result = 100 + int(ans)\n",
    "print( \"100 + {} = {}\".format(ans, result) )"
   ]
  },
  {
   "cell_type": "code",
   "execution_count": 7,
   "metadata": {},
   "outputs": [
    {
     "name": "stdout",
     "output_type": "stream",
     "text": [
      "Type a number to add: four\n",
      "You did not put in a valid number!\n",
      "The program did not break!\n"
     ]
    }
   ],
   "source": [
    "# using the try and except blocks, use tab to indent where necessary\n",
    "try:\n",
    "     ans = float( input(\"Type a number to add: \") )\n",
    "     print( \"100 + {} = {}\".format(ans, 100 + ans) )\n",
    "\n",
    "except:\n",
    "    \n",
    "     print(\"You did not put in a valid number!\")\n",
    "# without try/except print statement would not get hit if error occurs\n",
    "     print(\"The program did not break!\")\n",
    "\n"
   ]
  },
  {
   "cell_type": "markdown",
   "metadata": {},
   "source": [
    "## Monday Exercises"
   ]
  },
  {
   "cell_type": "code",
   "execution_count": 1,
   "metadata": {},
   "outputs": [
    {
     "name": "stdout",
     "output_type": "stream",
     "text": [
      "True\n"
     ]
    }
   ],
   "source": [
    "Corey =\"true\"\n",
    "Corey = bool(\"true\")\n",
    "print(Corey)"
   ]
  },
  {
   "cell_type": "code",
   "execution_count": 4,
   "metadata": {},
   "outputs": [
    {
     "name": "stdout",
     "output_type": "stream",
     "text": [
      "Enter a number please:10\n",
      "Enter another number please:12\n",
      "22\n"
     ]
    }
   ],
   "source": [
    "ans = int(input( \"Enter a number please:\") )\n",
    "\n",
    "ans2= int(input( \"Enter another number please:\") )\n",
    "\n",
    "result =(ans + ans2)\n",
    "\n",
    "print(result)\n",
    "\n"
   ]
  },
  {
   "cell_type": "code",
   "execution_count": 4,
   "metadata": {},
   "outputs": [
    {
     "name": "stdout",
     "output_type": "stream",
     "text": [
      "What year is your car? 2017\n",
      "Who is the maker of your car? Honda\n",
      "What is the color of your car Red\n",
      "What is the model of your car? Accord\n",
      " 2017  Red  Honda  Accord\n"
     ]
    }
   ],
   "source": [
    "year = input(\"What year is your car?\")\n",
    "\n",
    "make = input(\"Who is the maker of your car?\")\n",
    "\n",
    "color = input(\"What is the color of your car\")\n",
    "\n",
    "model = input(\"What is the model of your car?\")\n",
    "\n",
    "result = (\"{} {} {} {}\".format(year, color, make, model) )\n",
    "print(result)\n"
   ]
  },
  {
   "cell_type": "markdown",
   "metadata": {},
   "source": [
    "## If Statements"
   ]
  },
  {
   "cell_type": "code",
   "execution_count": 1,
   "metadata": {},
   "outputs": [
    {
     "name": "stdout",
     "output_type": "stream",
     "text": [
      "x is less than y\n"
     ]
    }
   ],
   "source": [
    "# using an if statement to only run code if the condition is met\n",
    "x, y = 5, 10\n",
    "if x < y:\n",
    "    print(\"x is less than y\")"
   ]
  },
  {
   "cell_type": "code",
   "execution_count": 2,
   "metadata": {},
   "outputs": [
    {
     "name": "stdout",
     "output_type": "stream",
     "text": [
      "What is 5 + 5? 10\n",
      "You got it right!\n"
     ]
    }
   ],
   "source": [
    "# checking user input \n",
    "ans = int( input(\"What is 5 + 5? \"))\n",
    "if ans == 10:\n",
    "    print(\"You got it right!\")"
   ]
  },
  {
   "cell_type": "code",
   "execution_count": 3,
   "metadata": {},
   "outputs": [
    {
     "name": "stdout",
     "output_type": "stream",
     "text": [
      "Both statements are true\n"
     ]
    }
   ],
   "source": [
    "# using the keyword \"and\" in and \"if statement\"\n",
    "x, y, z = 5, 10, 5\n",
    "if x < y and x == z:\n",
    "    print(\"Both statements are true\")"
   ]
  },
  {
   "cell_type": "code",
   "execution_count": 4,
   "metadata": {},
   "outputs": [
    {
     "name": "stdout",
     "output_type": "stream",
     "text": [
      "One or both statements are true\n"
     ]
    }
   ],
   "source": [
    "# using the keyword \"or\" in an \"if statement\"\n",
    "x, y, z = 5, 10, 5\n",
    "if x < y or x != z:\n",
    "    print(\"One or both statements are true\")"
   ]
  },
  {
   "cell_type": "code",
   "execution_count": 5,
   "metadata": {},
   "outputs": [
    {
     "name": "stdout",
     "output_type": "stream",
     "text": [
      "Flag is False\n"
     ]
    }
   ],
   "source": [
    "# using the keyword \"not\" within an \"if statement\"\n",
    "flag = False\n",
    "if not flag:             # same as saying if not true\n",
    "    print(\"Flag is False\")"
   ]
  },
  {
   "cell_type": "code",
   "execution_count": 6,
   "metadata": {},
   "outputs": [
    {
     "name": "stdout",
     "output_type": "stream",
     "text": [
      "Baseball contains the character b\n"
     ]
    }
   ],
   "source": [
    "# using the keyword \"in\" within an \"if statement\"\n",
    "word = \"Baseball\"\n",
    "if \"b\" in word:\n",
    "    print( \"{} contains the character b\".format(word) )"
   ]
  },
  {
   "cell_type": "code",
   "execution_count": 7,
   "metadata": {},
   "outputs": [
    {
     "name": "stdout",
     "output_type": "stream",
     "text": [
      "Baseball does not contain the character x\n"
     ]
    }
   ],
   "source": [
    "# using the keyword \"not in\" within an \"if statement\"\n",
    "word = \"Baseball\"\n",
    "if \"x\" not in word:\n",
    "    print( \"{} does not contain the character x\".format(word) )"
   ]
  },
  {
   "cell_type": "markdown",
   "metadata": {},
   "source": [
    "## Tuesday exercises"
   ]
  },
  {
   "cell_type": "code",
   "execution_count": 12,
   "metadata": {},
   "outputs": [
    {
     "name": "stdout",
     "output_type": "stream",
     "text": [
      "What do people wear to help them see better? Glasses \n",
      "  Glasses  contains es in it\n"
     ]
    }
   ],
   "source": [
    "word = input(\"What do people wear to help them see better?\")\n",
    "if \"es\" in word:\n",
    "    print(\" {} contains es in it\".format(word) )\n"
   ]
  },
  {
   "cell_type": "code",
   "execution_count": 13,
   "metadata": {},
   "outputs": [
    {
     "name": "stdout",
     "output_type": "stream",
     "text": [
      "What is you favorite hobby? Gaming\n",
      " Gaming contains ing in it\n"
     ]
    }
   ],
   "source": [
    "word = input(\"What is you favorite hobby?\")\n",
    "if \"ing\" in word:\n",
    "    print(\"{} contains ing in it\".format(word) )"
   ]
  },
  {
   "cell_type": "code",
   "execution_count": 14,
   "metadata": {},
   "outputs": [
    {
     "name": "stdout",
     "output_type": "stream",
     "text": [
      "Put a word here: Family\n",
      "Put the same word here: family\n",
      "The words are the same!\n"
     ]
    }
   ],
   "source": [
    "word1 = input(\"Put a word here:\")\n",
    "word2 = input(\"Put the same word here:\")\n",
    "if word1.lower() == word2.lower():\n",
    "    print(\"The words are the same!\")"
   ]
  },
  {
   "cell_type": "code",
   "execution_count": 25,
   "metadata": {},
   "outputs": [
    {
     "name": "stdout",
     "output_type": "stream",
     "text": [
      "Please enter a number here:9\n",
      "81\n"
     ]
    }
   ],
   "source": [
    "result = int(input(\"Please enter a number here:\") )\n",
    "if result < 10:\n",
    "    print(result ** 2)"
   ]
  },
  {
   "cell_type": "markdown",
   "metadata": {},
   "source": [
    "## Elif Statements"
   ]
  },
  {
   "cell_type": "code",
   "execution_count": 1,
   "metadata": {},
   "outputs": [
    {
     "name": "stdout",
     "output_type": "stream",
     "text": [
      "x is less\n"
     ]
    }
   ],
   "source": [
    "# using the elif conditional statement\n",
    "x, y = 5, 10\n",
    "if x > y:\n",
    "    print(\"x is greater\")\n",
    "elif x < y:\n",
    "    print(\"x is less\")"
   ]
  },
  {
   "cell_type": "code",
   "execution_count": 3,
   "metadata": {},
   "outputs": [
    {
     "name": "stdout",
     "output_type": "stream",
     "text": [
      "equal\n"
     ]
    }
   ],
   "source": [
    "# checking more than one elif conditional statement\n",
    "x, y = 5, 10\n",
    "if x > y:\n",
    "    print(\"x is greater\")\n",
    "elif (x + 10) < y:          # checking if 15 is less than 10\n",
    "    print(\"x is less\")\n",
    "elif (x + 5) == y:            # checking if 10 is equal to 10\n",
    "    print(\"equal\")"
   ]
  },
  {
   "cell_type": "code",
   "execution_count": 4,
   "metadata": {},
   "outputs": [
    {
     "name": "stdout",
     "output_type": "stream",
     "text": [
      "x is equal to z\n"
     ]
    }
   ],
   "source": [
    "# writing multiple conditionals within each other - multiple block levels\n",
    "x, y, z = 5, 10, 5\n",
    "if x > y:\n",
    "    print(\"greater\")\n",
    "elif x <= y:\n",
    "    if x == z:\n",
    "        print(\"x is equal to z\")       # resulting output\n",
    "    elif x != z:\n",
    "        print(\"x is not equal to z\")   # won't get hit"
   ]
  },
  {
   "cell_type": "code",
   "execution_count": 5,
   "metadata": {},
   "outputs": [
    {
     "name": "stdout",
     "output_type": "stream",
     "text": [
      "x is less\n",
      "x is equal\n"
     ]
    }
   ],
   "source": [
    "# testing output of two if statements in a row that are both true\n",
    "x, y, z = 5, 10, 5 \n",
    "if x < y:\n",
    "    print(\"x is less\")\n",
    "if x == z:\n",
    "    print(\"x is equal\")"
   ]
  },
  {
   "cell_type": "code",
   "execution_count": 6,
   "metadata": {},
   "outputs": [
    {
     "name": "stdout",
     "output_type": "stream",
     "text": [
      "x is less\n"
     ]
    }
   ],
   "source": [
    "# testing output of an if and elif statement that are both true\n",
    "x, y, z = 5, 10, 5\n",
    "if x < y:\n",
    "    print(\"x is less\")\n",
    "elif x == z:\n",
    "    print(\"x is equal to z\")"
   ]
  },
  {
   "cell_type": "markdown",
   "metadata": {},
   "source": [
    "## Wednesday Exercises"
   ]
  },
  {
   "cell_type": "code",
   "execution_count": 3,
   "metadata": {},
   "outputs": [
    {
     "name": "stdout",
     "output_type": "stream",
     "text": [
      "Enter a number: 454\n",
      "Your number is greater!\n"
     ]
    }
   ],
   "source": [
    "num1 = int(input(\"Enter a number: \") )\n",
    "if num1 > 100:\n",
    "    print(\"Your number is greater!\")\n",
    "elif num1 < 100:\n",
    "    print(\"Your number is lower!\")"
   ]
  },
  {
   "cell_type": "code",
   "execution_count": 4,
   "metadata": {},
   "outputs": [
    {
     "name": "stdout",
     "output_type": "stream",
     "text": [
      "Lower\n"
     ]
    }
   ],
   "source": [
    "x, y = 5, 10\n",
    "if x > y:\n",
    "    print(\"Greater\")\n",
    "elif x < y:\n",
    "    print(\"Lower\")"
   ]
  },
  {
   "cell_type": "markdown",
   "metadata": {},
   "source": [
    "## Else Statements"
   ]
  },
  {
   "cell_type": "code",
   "execution_count": 8,
   "metadata": {},
   "outputs": [
    {
     "name": "stdout",
     "output_type": "stream",
     "text": [
      "Hello Corey!\n"
     ]
    }
   ],
   "source": [
    "# using an Else Statements\n",
    "name = \"Corey\"\n",
    "if name == \"Caleb\":\n",
    "    print(\"Hello Caleb\")\n",
    "else:\n",
    "    print(\"Hello {}!\".format(name) )"
   ]
  },
  {
   "cell_type": "code",
   "execution_count": 9,
   "metadata": {},
   "outputs": [
    {
     "name": "stdout",
     "output_type": "stream",
     "text": [
      "Name starts with a C\n"
     ]
    }
   ],
   "source": [
    "# writing a full conditional statement with if, elif, else\n",
    "name = \"Corey\"\n",
    "if name[0] == \"A\":\n",
    "    print(\"Name starts with an A\")\n",
    "elif name[0] == \"B\":\n",
    "    print(\"Name starts with a B\")\n",
    "elif name[0] == \"J\":\n",
    "    print(\"Name starts with a J\")\n",
    "else:  #covers all other possibilities\n",
    "    print(\"Name starts with a {}\".format(name[0]) )"
   ]
  },
  {
   "cell_type": "markdown",
   "metadata": {},
   "source": [
    "## Thursday Exercises"
   ]
  },
  {
   "cell_type": "code",
   "execution_count": 10,
   "metadata": {},
   "outputs": [
    {
     "name": "stdout",
     "output_type": "stream",
     "text": [
      "Hello John!\n"
     ]
    }
   ],
   "source": [
    "name = \"John\"\n",
    "if name == \"Jack\":\n",
    "    print(\"Hello Jack!\")\n",
    "else:\n",
    "    print(\"Hello {}!\".format(name) )"
   ]
  },
  {
   "cell_type": "code",
   "execution_count": 22,
   "metadata": {},
   "outputs": [
    {
     "name": "stdout",
     "output_type": "stream",
     "text": [
      "Enter the time of day in military time without a colon:1800\n",
      "Good Evening everyone!\n"
     ]
    }
   ],
   "source": [
    "time = int(input(\"Enter the time of day in military time without a colon:\"))\n",
    "if time < 1200:\n",
    "    print(\"Good Morning everyone!\")\n",
    "elif (1200 <= time <= 1700):\n",
    "    print(\"Good Afternoon everyone!\")\n",
    "else:\n",
    "    print(\"Good Evening everyone!\")"
   ]
  },
  {
   "cell_type": "markdown",
   "metadata": {},
   "source": [
    "## Creating a calculator"
   ]
  },
  {
   "cell_type": "code",
   "execution_count": 5,
   "metadata": {},
   "outputs": [
    {
     "name": "stdout",
     "output_type": "stream",
     "text": [
      "Would you like to add/subtract/multiply/divide?divide\n",
      "You chose divide.\n"
     ]
    }
   ],
   "source": [
    "# step 1: ask user for calculation to be performed \n",
    "operation = input(\"Would you like to add/subtract/multiply/divide?\").lower()\n",
    "print(\"You chose {}.\".format(operation) )      "
   ]
  },
  {
   "cell_type": "code",
   "execution_count": 6,
   "metadata": {},
   "outputs": [
    {
     "name": "stdout",
     "output_type": "stream",
     "text": [
      "You chose divide.\n",
      "Please keep in mind that the order of your numbers matter.\n",
      "What is the first number?12\n",
      "What is the second number?4\n",
      "First Number: 12\n",
      "Second Number: 4\n"
     ]
    }
   ],
   "source": [
    "# step 2: ask for numbers, alert order matters for subtracting and dividing\n",
    "\n",
    "if operation == \"subtract\" or operation == \"divide\":\n",
    "    print(\"You chose {}.\".format(operation) )\n",
    "    print(\"Please keep in mind that the order of your numbers matter.\")\n",
    "num1 = input(\"What is the first number?\")\n",
    "num2 = input(\"What is the second number?\")\n",
    "print(\"First Number: {}\".format(num1) )     \n",
    "print(\"Second Number: {}\".format(num2) )    "
   ]
  },
  {
   "cell_type": "code",
   "execution_count": 10,
   "metadata": {},
   "outputs": [
    {
     "name": "stdout",
     "output_type": "stream",
     "text": [
      "12.0 / 4.0 = 3.0\n"
     ]
    }
   ],
   "source": [
    "# step 3: setup try/except for mathematical operation\n",
    "try:\n",
    "        #step 3a: immediately try to convert numbers input to floats \n",
    "        num1, num2 = float(num1), float(num2)\n",
    "        # step 3b: perform operation and print result if operation == \"add\":\n",
    "        if operation == \"add\":\n",
    "            result = num1 + num2\n",
    "            print( \"{} + {} = {}\".format(num1, num2, result) )\n",
    "        elif operation == \"subtract\":\n",
    "            result = num1 - num2\n",
    "            print(\"{} - {} = {}\".format(num1, num2, result) )\n",
    "        elif operation == \"multiply\":\n",
    "            result = num1 * num2\n",
    "            print(\"{} * {} = {}\".format(num1, num2, result) )\n",
    "        elif operation == \"divide\":\n",
    "            result = num1 / num2\n",
    "            print(\"{} / {} = {}\".format(num1, num2, result) )\n",
    "        else:\n",
    "            # else will be hit if they did not choose an option correctly\n",
    "            print(\"Sorry, but '{}' is not an option\".format(operation) )\n",
    "            \n",
    "except:\n",
    "        # step 3c: print error\n",
    "        print(\"Error: Improper numbers used. Please try again.\")\n",
    "        "
   ]
  },
  {
   "cell_type": "code",
   "execution_count": 12,
   "metadata": {},
   "outputs": [
    {
     "name": "stdout",
     "output_type": "stream",
     "text": [
      "Would you like to add/subtract/multiply/divide?Divide\n",
      "You chose divide.\n",
      "You chose divide.\n",
      "Please keep in mind that the order of your numbers matter.\n",
      "What is the first number?100\n",
      "What is the second number?25\n",
      "First Number: 100\n",
      "Second Number: 25\n",
      "100.0 / 25.0 = 4.0\n"
     ]
    }
   ],
   "source": [
    "# step 1: ask user for calculation to be performed \n",
    "operation = input(\"Would you like to add/subtract/multiply/divide?\").lower()\n",
    "print(\"You chose {}.\".format(operation) )  \n",
    "\n",
    "# step 2: ask for numbers, alert order matters for subtracting and dividing\n",
    "\n",
    "if operation == \"subtract\" or operation == \"divide\":\n",
    "    print(\"You chose {}.\".format(operation) )\n",
    "    print(\"Please keep in mind that the order of your numbers matter.\")\n",
    "num1 = input(\"What is the first number?\")\n",
    "num2 = input(\"What is the second number?\")\n",
    "print(\"First Number: {}\".format(num1) )     \n",
    "print(\"Second Number: {}\".format(num2) )  \n",
    "\n",
    "# step 3: setup try/except for mathematical operation\n",
    "try:\n",
    "        #step 3a: immediately try to convert numbers input to floats \n",
    "        num1, num2 = float(num1), float(num2)\n",
    "        # step 3b: perform operation and print result if operation == \"add\":\n",
    "        if operation == \"add\":\n",
    "            result = num1 + num2\n",
    "            print( \"{} + {} = {}\".format(num1, num2, result) )\n",
    "        elif operation == \"subtract\":\n",
    "            result = num1 - num2\n",
    "            print(\"{} - {} = {}\".format(num1, num2, result) )\n",
    "        elif operation == \"multiply\":\n",
    "            result = num1 * num2\n",
    "            print(\"{} * {} = {}\".format(num1, num2, result) )\n",
    "        elif operation == \"divide\":\n",
    "            result = num1 / num2\n",
    "            print(\"{} / {} = {}\".format(num1, num2, result) )\n",
    "        else:\n",
    "            # else will be hit if they did not choose an option correctly\n",
    "            print(\"Sorry, but '{}' is not an option\".format(operation) )\n",
    "            \n",
    "except:\n",
    "        # step 3c: print error\n",
    "        print(\"Error: Improper numbers used. Please try again.\")"
   ]
  },
  {
   "cell_type": "code",
   "execution_count": null,
   "metadata": {},
   "outputs": [],
   "source": []
  }
 ],
 "metadata": {
  "kernelspec": {
   "display_name": "Python 3",
   "language": "python",
   "name": "python3"
  },
  "language_info": {
   "codemirror_mode": {
    "name": "ipython",
    "version": 3
   },
   "file_extension": ".py",
   "mimetype": "text/x-python",
   "name": "python",
   "nbconvert_exporter": "python",
   "pygments_lexer": "ipython3",
   "version": "3.8.5"
  }
 },
 "nbformat": 4,
 "nbformat_minor": 4
}
