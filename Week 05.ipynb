{
 "cells": [
  {
   "cell_type": "markdown",
   "metadata": {},
   "source": [
    "# Creating & Calling Functions"
   ]
  },
  {
   "cell_type": "code",
   "execution_count": 1,
   "metadata": {},
   "outputs": [
    {
     "name": "stdout",
     "output_type": "stream",
     "text": [
      "Name: Corey Hawthorne\n",
      "Age: 26\n",
      "Name: Corey Hawthorne\n",
      "Age: 26\n"
     ]
    }
   ],
   "source": [
    "# writing my first function\n",
    "def printInfo():                  # defines what the function does when called\n",
    "    print(\"Name: Corey Hawthorne\")\n",
    "    print(\"Age: 26\")\n",
    "printInfo()                      # calls the function to run\n",
    "printInfo()                      # calls the function to again\n",
    "          "
   ]
  },
  {
   "cell_type": "code",
   "execution_count": 6,
   "metadata": {},
   "outputs": [
    {
     "name": "stdout",
     "output_type": "stream",
     "text": [
      "15\n"
     ]
    }
   ],
   "source": [
    "# performing a calculation in a function\n",
    "def calc():\n",
    "    x, y = 5, 10\n",
    "    print(x + y)\n",
    "calc()              # will run the block of code within calc and output 15"
   ]
  },
  {
   "cell_type": "markdown",
   "metadata": {},
   "source": [
    "## Monday Exercises"
   ]
  },
  {
   "cell_type": "code",
   "execution_count": 7,
   "metadata": {},
   "outputs": [
    {
     "name": "stdout",
     "output_type": "stream",
     "text": [
      "Corey Hawthorne\n"
     ]
    }
   ],
   "source": [
    "def MyName():\n",
    "    print(\"Corey Hawthorne\")\n",
    "MyName()"
   ]
  },
  {
   "cell_type": "code",
   "execution_count": 8,
   "metadata": {},
   "outputs": [
    {
     "name": "stdout",
     "output_type": "stream",
     "text": [
      "Spinach Mushroom Tomatoes Black Olives\n",
      "Spinach Mushroom Tomatoes Black Olives\n",
      "Spinach Mushroom Tomatoes Black Olives\n"
     ]
    }
   ],
   "source": [
    "def toppings():\n",
    "    print(\"Spinach\", \"Mushroom\", \"Tomatoes\", \"Black Olives\")\n",
    "toppings()\n",
    "toppings()\n",
    "toppings()\n"
   ]
  },
  {
   "cell_type": "markdown",
   "metadata": {},
   "source": [
    "## Parameters"
   ]
  },
  {
   "cell_type": "code",
   "execution_count": 9,
   "metadata": {},
   "outputs": [
    {
     "name": "stdout",
     "output_type": "stream",
     "text": [
      "Your name is: Corey Hawthorne\n",
      "Your name is: Dion\n"
     ]
    }
   ],
   "source": [
    "# passing a single parameter into a function \n",
    "def printName(full_name):\n",
    "    print(\"Your name is: {}\".format(full_name) )\n",
    "\n",
    "printName(\"Corey Hawthorne\")\n",
    "printName(\"Dion\")"
   ]
  },
  {
   "cell_type": "code",
   "execution_count": 10,
   "metadata": {},
   "outputs": [
    {
     "name": "stdout",
     "output_type": "stream",
     "text": [
      "5 + 8 = 13\n",
      "3.5 + 5.5 = 9.0\n"
     ]
    }
   ],
   "source": [
    "# passing multiple parameters into a function\n",
    "def addNums(num1, num2):\n",
    "    result = num1 + num2\n",
    "    print(\"{} + {} = {}\".format(num1, num2, result) )\n",
    "addNums(5, 8)\n",
    "addNums(3.5, 5.5)    "
   ]
  },
  {
   "cell_type": "code",
   "execution_count": 12,
   "metadata": {},
   "outputs": [
    {
     "name": "stdout",
     "output_type": "stream",
     "text": [
      "4\n",
      "16\n",
      "25\n",
      "100\n",
      "1\n",
      "9\n",
      "36\n"
     ]
    }
   ],
   "source": [
    "# using a function to square all information\n",
    "numbers1 = [2, 4, 5, 10]\n",
    "numbers2 = [1, 3, 6]\n",
    "def squares(nums):\n",
    "    for num in nums:\n",
    "        print(num**2)\n",
    "squares(numbers1)\n",
    "squares(numbers2)"
   ]
  },
  {
   "cell_type": "code",
   "execution_count": 13,
   "metadata": {},
   "outputs": [
    {
     "name": "stdout",
     "output_type": "stream",
     "text": [
      "Area: 12.56\n"
     ]
    }
   ],
   "source": [
    "# setting default parameter values\n",
    "def calcArea(r, pi= 3.14):\n",
    "    area = pi * (r**2)\n",
    "    print(\"Area: {}\".format(area) )\n",
    "calcArea(2)  \n"
   ]
  },
  {
   "cell_type": "code",
   "execution_count": 15,
   "metadata": {},
   "outputs": [
    {
     "name": "stdout",
     "output_type": "stream",
     "text": [
      "Corey Hawthorne  \n",
      "Corey Dion Hawthorne\n"
     ]
    }
   ],
   "source": [
    "def printName(first, middle, last = \" \"):\n",
    "    if middle:\n",
    "        print(\"{} {} {}\".format(first, middle, last) )\n",
    "    \n",
    "    else:\n",
    "        print(\"{} {}\".format(first, last) )\n",
    "        \n",
    "printName(\"Corey\", \"Hawthorne\")\n",
    "printName(\"Corey\", \"Dion\", \"Hawthorne\")"
   ]
  },
  {
   "cell_type": "code",
   "execution_count": 16,
   "metadata": {},
   "outputs": [
    {
     "name": "stdout",
     "output_type": "stream",
     "text": [
      "2.5\n",
      "5\n"
     ]
    }
   ],
   "source": [
    "# explicitly assigning values to parameters by referencing the name \n",
    "def addNums(num1, num2):\n",
    "    print(num2)\n",
    "    print(num1)\n",
    "addNums(5, num2 = 2.5)"
   ]
  },
  {
   "cell_type": "code",
   "execution_count": 17,
   "metadata": {},
   "outputs": [
    {
     "name": "stdout",
     "output_type": "stream",
     "text": [
      "<class 'tuple'>\n",
      "4\n",
      "True\n",
      "Whats up\n"
     ]
    }
   ],
   "source": [
    "# using args parameter to take in a tuple arbitrary values\n",
    "def outputData(name, *args):\n",
    "    print( type(args) )\n",
    "    for arg in args:\n",
    "        print(arg)\n",
    "outputData(\"Corey Hawthorne\", 4, True, \"Whats up\")\n",
    "    "
   ]
  },
  {
   "cell_type": "code",
   "execution_count": 18,
   "metadata": {},
   "outputs": [
    {
     "name": "stdout",
     "output_type": "stream",
     "text": [
      "<class 'dict'>\n",
      "Corey Hawthorne\n",
      "5\n"
     ]
    }
   ],
   "source": [
    "# using kwargs parameter to take in a dictionary of arbitrary values\n",
    "def outputData(**kwargs):\n",
    "    print( type(kwargs) )\n",
    "    print( kwargs[ \"name\" ] )\n",
    "    print( kwargs [ \"num\" ] )\n",
    "outputData(name = \"Corey Hawthorne\", num = 5, b = True)"
   ]
  },
  {
   "cell_type": "markdown",
   "metadata": {},
   "source": [
    "## Tuesday Exercises"
   ]
  },
  {
   "cell_type": "code",
   "execution_count": 7,
   "metadata": {},
   "outputs": [
    {
     "name": "stdout",
     "output_type": "stream",
     "text": [
      "Please enter a word here: hello\n",
      "False\n"
     ]
    }
   ],
   "source": [
    "def printWord():\n",
    "    user = input(\"Please enter a word here: \" )\n",
    "    \n",
    "    if user[0].isupper():\n",
    "        print(\"True\")\n",
    "        \n",
    "    elif user[0].islower(): \n",
    "        print(\"False\")\n",
    "\n",
    "printWord()\n",
    "        \n",
    "\n",
    "\n",
    "        "
   ]
  },
  {
   "cell_type": "code",
   "execution_count": 1,
   "metadata": {},
   "outputs": [],
   "source": [
    "def printName(first_name, last_name, *args):\n",
    "    print(type(args) )\n",
    "       \n",
    "        \n",
    "    "
   ]
  },
  {
   "cell_type": "markdown",
   "metadata": {},
   "source": [
    "## Return Statement"
   ]
  },
  {
   "cell_type": "code",
   "execution_count": 1,
   "metadata": {},
   "outputs": [
    {
     "name": "stdout",
     "output_type": "stream",
     "text": [
      "10.0\n",
      "20\n"
     ]
    }
   ],
   "source": [
    "# using return keyword to return the sum of two numbers \n",
    "def addNums(num1, num2):\n",
    "    return num1 + num2\n",
    "num = addNums(5.5, 4.5)        # saves returned value into num\n",
    "print(num)\n",
    "print(addNums(10,10) )         # doesn't save returned value"
   ]
  },
  {
   "cell_type": "code",
   "execution_count": 5,
   "metadata": {},
   "outputs": [
    {
     "name": "stdout",
     "output_type": "stream",
     "text": [
      "True\n"
     ]
    }
   ],
   "source": [
    "# shorthand syntax using a ternary operator\n",
    "def searchList(aList, el):\n",
    "    return True if el in aList else False\n",
    "result = searchList( [\"one\", 2, \"three\"], 2 )\n",
    "print(result)"
   ]
  },
  {
   "cell_type": "markdown",
   "metadata": {},
   "source": [
    "## Wednesday Exercises"
   ]
  },
  {
   "cell_type": "code",
   "execution_count": 28,
   "metadata": {},
   "outputs": [
    {
     "name": "stdout",
     "output_type": "stream",
     "text": [
      "Corey Hawthorne\n"
     ]
    }
   ],
   "source": [
    "def name(first, last):\n",
    "    return (first, last)\n",
    "wholeName = name(\"Corey\", \"Hawthorne\")\n",
    "x = \" \"\n",
    "x = x.join(wholeName)\n",
    "print(x)"
   ]
  },
  {
   "cell_type": "markdown",
   "metadata": {},
   "source": [
    "## Scope"
   ]
  },
  {
   "cell_type": "code",
   "execution_count": 2,
   "metadata": {},
   "outputs": [
    {
     "ename": "UnboundLocalError",
     "evalue": "local variable 'number' referenced before assignment",
     "output_type": "error",
     "traceback": [
      "\u001b[0;31m---------------------------------------------------------------------------\u001b[0m",
      "\u001b[0;31mUnboundLocalError\u001b[0m                         Traceback (most recent call last)",
      "\u001b[0;32m<ipython-input-2-8c1a4988e48a>\u001b[0m in \u001b[0;36m<module>\u001b[0;34m\u001b[0m\n\u001b[1;32m      3\u001b[0m \u001b[0;32mdef\u001b[0m \u001b[0mscopeTest\u001b[0m\u001b[0;34m(\u001b[0m\u001b[0;34m)\u001b[0m\u001b[0;34m:\u001b[0m\u001b[0;34m\u001b[0m\u001b[0;34m\u001b[0m\u001b[0m\n\u001b[1;32m      4\u001b[0m     \u001b[0mnumber\u001b[0m \u001b[0;34m+=\u001b[0m \u001b[0;36m1\u001b[0m       \u001b[0;31m# not accessible due to function level scope\u001b[0m\u001b[0;34m\u001b[0m\u001b[0;34m\u001b[0m\u001b[0m\n\u001b[0;32m----> 5\u001b[0;31m \u001b[0mscopeTest\u001b[0m\u001b[0;34m(\u001b[0m\u001b[0;34m)\u001b[0m\u001b[0;34m\u001b[0m\u001b[0;34m\u001b[0m\u001b[0m\n\u001b[0m",
      "\u001b[0;32m<ipython-input-2-8c1a4988e48a>\u001b[0m in \u001b[0;36mscopeTest\u001b[0;34m()\u001b[0m\n\u001b[1;32m      2\u001b[0m \u001b[0mnumber\u001b[0m \u001b[0;34m=\u001b[0m \u001b[0;36m5\u001b[0m\u001b[0;34m\u001b[0m\u001b[0;34m\u001b[0m\u001b[0m\n\u001b[1;32m      3\u001b[0m \u001b[0;32mdef\u001b[0m \u001b[0mscopeTest\u001b[0m\u001b[0;34m(\u001b[0m\u001b[0;34m)\u001b[0m\u001b[0;34m:\u001b[0m\u001b[0;34m\u001b[0m\u001b[0;34m\u001b[0m\u001b[0m\n\u001b[0;32m----> 4\u001b[0;31m     \u001b[0mnumber\u001b[0m \u001b[0;34m+=\u001b[0m \u001b[0;36m1\u001b[0m       \u001b[0;31m# not accessible due to function level scope\u001b[0m\u001b[0;34m\u001b[0m\u001b[0;34m\u001b[0m\u001b[0m\n\u001b[0m\u001b[1;32m      5\u001b[0m \u001b[0mscopeTest\u001b[0m\u001b[0;34m(\u001b[0m\u001b[0;34m)\u001b[0m\u001b[0;34m\u001b[0m\u001b[0;34m\u001b[0m\u001b[0m\n",
      "\u001b[0;31mUnboundLocalError\u001b[0m: local variable 'number' referenced before assignment"
     ]
    }
   ],
   "source": [
    "# where global variables can be accessed \n",
    "number = 5\n",
    "def scopeTest():\n",
    "    number += 1       # not accessible due to function level scope\n",
    "scopeTest()"
   ]
  },
  {
   "cell_type": "code",
   "execution_count": 3,
   "metadata": {},
   "outputs": [
    {
     "name": "stdout",
     "output_type": "stream",
     "text": [
      "function\n"
     ]
    }
   ],
   "source": [
    "# accessing variables defined in a function\n",
    "def scopeTest():\n",
    "    word = \"function\"\n",
    "    return word\n",
    "value = scopeTest()\n",
    "print(value)"
   ]
  },
  {
   "cell_type": "code",
   "execution_count": 5,
   "metadata": {},
   "outputs": [
    {
     "name": "stdout",
     "output_type": "stream",
     "text": [
      "Before Altering:. ['baseball', 'football', 'hockey', 'basketball']\n",
      "After Altering: ['soccer', 'football', 'hockey', 'basketball']\n"
     ]
    }
   ],
   "source": [
    "# changing list item values by index\n",
    "sports = [ \"baseball\", \"football\", \"hockey\", \"basketball\" ]\n",
    "def change(aList):\n",
    "    aList[ 0 ] = \"soccer\"\n",
    "print(\"Before Altering:. {}\".format(sports) )\n",
    "change(sports)\n",
    "print( \"After Altering: {}\".format(sports) )"
   ]
  },
  {
   "cell_type": "markdown",
   "metadata": {},
   "source": [
    "## Thursday Exercises"
   ]
  },
  {
   "cell_type": "code",
   "execution_count": 1,
   "metadata": {},
   "outputs": [
    {
     "name": "stdout",
     "output_type": "stream",
     "text": [
      "Before Altering:. ['Bob', 'Rich', 'Amanda']\n",
      "After Altering: ['Bob', 'Bill', 'Amanda']\n"
     ]
    }
   ],
   "source": [
    "names = [\"Bob\", \"Rich\", \"Amanda\"]\n",
    "def change(aList):\n",
    "    aList[ 1 ] = \"Bill\"\n",
    "print(\"Before Altering:. {}\".format(names) )\n",
    "change(names)\n",
    "print( \"After Altering: {}\".format(names) )"
   ]
  },
  {
   "cell_type": "markdown",
   "metadata": {},
   "source": [
    "## Friday Project: Creating a Shopping Cart"
   ]
  },
  {
   "cell_type": "code",
   "execution_count": null,
   "metadata": {},
   "outputs": [
    {
     "name": "stdout",
     "output_type": "stream",
     "text": [
      "Here is your cart:\n",
      "- Eggs\n",
      "- Milk\n",
      "-  Orange Juice\n"
     ]
    }
   ],
   "source": [
    "# import neccessary functions\n",
    "from IPython.display import clear_output\n",
    "# global list variable\n",
    "cart = [ ]\n",
    "\n",
    "\n",
    "# create a function to add items to car\n",
    "def addItem(item):\n",
    "    clear_output()\n",
    "    cart.append(item)\n",
    "    print( \"{} has been added.\".format(item) )\n",
    "    \n",
    "#create a function to remove items to cart\n",
    "def removeItem(item):\n",
    "    clear_output()\n",
    "    try:\n",
    "        cart.remove(item)\n",
    "        print( \"{} has been removed.\".format(item) )\n",
    "    except:\n",
    "        print(\"Sorry we could not remove that item.\")\n",
    "        \n",
    "# create a function to show items in a cart\n",
    "def showCart():\n",
    "    clear_output()\n",
    "    if cart:\n",
    "        print(\"Here is your cart:\")\n",
    "        for item in cart:\n",
    "            print(\"- {}\".format(item) )\n",
    "    else:\n",
    "        print(\"Your cart is empty.\")\n",
    "    \n",
    "# create a function to clear items from cart\n",
    "def clearCart():\n",
    "    clear_output()\n",
    "    cart.clear()\n",
    "    print(\"Your cart is empty\")\n",
    "    \n",
    "# create main function that loops until the user quits \n",
    "def main():\n",
    "    done = False\n",
    "    while not done:\n",
    "        ans = input(\"quit/add/remove/show/clear: \").lower()\n",
    "        \n",
    "        if ans == \"quit\":\n",
    "            print(\"Thanks for shopping with us!.\")\n",
    "            showCart( )\n",
    "            done = True\n",
    "        elif ans == \"add\":\n",
    "            item = input(\"What would you like to add? \").title()\n",
    "            addItem(item)\n",
    "        elif ans == \"remove\":\n",
    "            showCart( )\n",
    "            item = input(\"What item would you like to remove? \").title()\n",
    "            removeItem(item)\n",
    "        elif ans == \"show\":\n",
    "            showCart()\n",
    "        elif ans == \"clear\":\n",
    "            clearCart( )\n",
    "        else:\n",
    "            print(\"Sorry that was not an option.\")\n",
    "            \n",
    "main()  "
   ]
  },
  {
   "cell_type": "code",
   "execution_count": null,
   "metadata": {},
   "outputs": [],
   "source": []
  }
 ],
 "metadata": {
  "kernelspec": {
   "display_name": "Python 3",
   "language": "python",
   "name": "python3"
  },
  "language_info": {
   "codemirror_mode": {
    "name": "ipython",
    "version": 3
   },
   "file_extension": ".py",
   "mimetype": "text/x-python",
   "name": "python",
   "nbconvert_exporter": "python",
   "pygments_lexer": "ipython3",
   "version": "3.8.5"
  }
 },
 "nbformat": 4,
 "nbformat_minor": 4
}
