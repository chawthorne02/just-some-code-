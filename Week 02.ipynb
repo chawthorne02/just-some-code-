{
 "cells": [
  {
   "cell_type": "markdown",
   "metadata": {},
   "source": [
    "# Comments & Basic Data Types"
   ]
  },
  {
   "cell_type": "code",
   "execution_count": 1,
   "metadata": {},
   "outputs": [],
   "source": [
    "# this is a comment"
   ]
  },
  {
   "cell_type": "code",
   "execution_count": 2,
   "metadata": {},
   "outputs": [
    {
     "name": "stdout",
     "output_type": "stream",
     "text": [
      "Hello\n"
     ]
    }
   ],
   "source": [
    "print(\"Hello\")      # this is a comment"
   ]
  },
  {
   "cell_type": "code",
   "execution_count": 3,
   "metadata": {},
   "outputs": [
    {
     "name": "stdout",
     "output_type": "stream",
     "text": [
      "Hello\n"
     ]
    }
   ],
   "source": [
    "\"\"\"\n",
    "    This is a comment\n",
    "\"\"\"\n",
    "print(\"Hello\")     # this is a comment"
   ]
  },
  {
   "cell_type": "code",
   "execution_count": 4,
   "metadata": {},
   "outputs": [
    {
     "name": "stdout",
     "output_type": "stream",
     "text": [
      "2\n",
      "10\n"
     ]
    }
   ],
   "source": [
    "# the following are all integers\n",
    "print(2)\n",
    "print(10)"
   ]
  },
  {
   "cell_type": "code",
   "execution_count": 5,
   "metadata": {},
   "outputs": [
    {
     "name": "stdout",
     "output_type": "stream",
     "text": [
      "10.953\n",
      "8.0\n"
     ]
    }
   ],
   "source": [
    "# the following are all floats\n",
    "print(10.953)\n",
    "print(8.0)   #even 8.0 is a float"
   ]
  },
  {
   "cell_type": "code",
   "execution_count": 6,
   "metadata": {},
   "outputs": [
    {
     "name": "stdout",
     "output_type": "stream",
     "text": [
      "True\n",
      "False\n"
     ]
    }
   ],
   "source": [
    "# the following are booleans\n",
    "print(True)\n",
    "print(False)"
   ]
  },
  {
   "cell_type": "code",
   "execution_count": 7,
   "metadata": {},
   "outputs": [
    {
     "name": "stdout",
     "output_type": "stream",
     "text": [
      " \n",
      "Big Man Jenkins\n",
      "Trueeeee (2chainz voice)\n"
     ]
    }
   ],
   "source": [
    "# the following are string\n",
    "print(\" \")\n",
    "print(\"Big Man Jenkins\")\n",
    "print('Trueeeee (2chainz voice)')"
   ]
  },
  {
   "cell_type": "code",
   "execution_count": 18,
   "metadata": {},
   "outputs": [
    {
     "name": "stdout",
     "output_type": "stream",
     "text": [
      "Corey Hawthorne\n"
     ]
    }
   ],
   "source": [
    "print('Corey Hawthorne')"
   ]
  },
  {
   "cell_type": "markdown",
   "metadata": {},
   "source": [
    "## Variables"
   ]
  },
  {
   "cell_type": "code",
   "execution_count": 19,
   "metadata": {},
   "outputs": [
    {
     "name": "stdout",
     "output_type": "stream",
     "text": [
      "5 8.4\n"
     ]
    }
   ],
   "source": [
    "num1 = 5       # storing an integer into a variable\n",
    "num2 = 8.4     # storing a float into a variable\n",
    "print(num1, num2)  # you can print multiple times using commas\n"
   ]
  },
  {
   "cell_type": "code",
   "execution_count": 21,
   "metadata": {},
   "outputs": [
    {
     "name": "stdout",
     "output_type": "stream",
     "text": [
      "True\n"
     ]
    }
   ],
   "source": [
    "# storing a boolean into a variable\n",
    "switch = True\n",
    "print(switch)"
   ]
  },
  {
   "cell_type": "code",
   "execution_count": 22,
   "metadata": {},
   "outputs": [
    {
     "name": "stdout",
     "output_type": "stream",
     "text": [
      "Corey Hawthorne 4\n"
     ]
    }
   ],
   "source": [
    "# storing strings into variables\n",
    "name = 'Corey Hawthorne'\n",
    "fav_number = '4'\n",
    "print(name, fav_number) "
   ]
  },
  {
   "cell_type": "code",
   "execution_count": 23,
   "metadata": {},
   "outputs": [
    {
     "name": "stdout",
     "output_type": "stream",
     "text": [
      "13.4\n"
     ]
    }
   ],
   "source": [
    "# using two variables to create another variable\n",
    "result = num1 + num2\n",
    "print(result)"
   ]
  },
  {
   "cell_type": "code",
   "execution_count": 24,
   "metadata": {},
   "outputs": [
    {
     "name": "stdout",
     "output_type": "stream",
     "text": [
      "14.4\n",
      "72.0\n"
     ]
    }
   ],
   "source": [
    "# adding, deleting, multiplying, dividing from a variable\n",
    "result += 1        # same as saying result = result + 1\n",
    "print(result)\n",
    "result *= num1     # same as saying result = result * num1\n",
    "print(result)"
   ]
  },
  {
   "cell_type": "code",
   "execution_count": 25,
   "metadata": {},
   "outputs": [
    {
     "name": "stdout",
     "output_type": "stream",
     "text": [
      "Corey\n",
      "Cdog\n"
     ]
    }
   ],
   "source": [
    "# defining a variable and overwriting its value\n",
    "name = 'Corey'\n",
    "print(name)\n",
    "name = 'Cdog'\n",
    "print(name)"
   ]
  },
  {
   "cell_type": "code",
   "execution_count": 30,
   "metadata": {},
   "outputs": [
    {
     "name": "stdout",
     "output_type": "stream",
     "text": [
      "13\n"
     ]
    }
   ],
   "source": [
    "x = 3\n",
    "y = 10\n",
    "result = (x + y)\n",
    "print(result)"
   ]
  },
  {
   "cell_type": "code",
   "execution_count": 33,
   "metadata": {},
   "outputs": [
    {
     "name": "stdout",
     "output_type": "stream",
     "text": [
      "3354.0764\n"
     ]
    }
   ],
   "source": [
    "w = 245.54\n",
    "h = 13.66 \n",
    "result = (w * h)\n",
    "print(result)"
   ]
  },
  {
   "cell_type": "markdown",
   "metadata": {},
   "source": [
    "## Working with Strings"
   ]
  },
  {
   "cell_type": "code",
   "execution_count": 34,
   "metadata": {},
   "outputs": [
    {
     "name": "stdout",
     "output_type": "stream",
     "text": [
      "Corey Hawthorne\n"
     ]
    }
   ],
   "source": [
    "#using the addition operator with variables\n",
    "first_name = \"Corey\"\n",
    "last_name = \"Hawthorne\"\n",
    "full_name = first_name + \" \" + last_name\n",
    "print(full_name)"
   ]
  },
  {
   "cell_type": "code",
   "execution_count": 14,
   "metadata": {},
   "outputs": [
    {
     "name": "stdout",
     "output_type": "stream",
     "text": [
      "Hello Corey\n",
      "Hello Corey, you are 26 years old!\n"
     ]
    }
   ],
   "source": [
    "# injecting variables using the format method\n",
    "name = \"Corey\"\n",
    "print( \"Hello {}\".format(\"Corey\") )\n",
    "print( \"Hello {}, you are {} years old!\".format(\"Corey\",\"26\"))"
   ]
  },
  {
   "cell_type": "code",
   "execution_count": 12,
   "metadata": {},
   "outputs": [
    {
     "name": "stdout",
     "output_type": "stream",
     "text": [
      "Hello Corey\n"
     ]
    }
   ],
   "source": [
    "# using the new f strings\n",
    "name = \"Corey\"\n",
    "print( f\"Hello {name}\" )"
   ]
  },
  {
   "cell_type": "code",
   "execution_count": 15,
   "metadata": {},
   "outputs": [
    {
     "name": "stdout",
     "output_type": "stream",
     "text": [
      "Hello, Corey\n"
     ]
    }
   ],
   "source": [
    "# one major difference between versions 2 & 3\n",
    "name = \"Corey\"\n",
    "print (\"Hello, %s\" % name)"
   ]
  },
  {
   "cell_type": "code",
   "execution_count": 17,
   "metadata": {},
   "outputs": [
    {
     "name": "stdout",
     "output_type": "stream",
     "text": [
      "Hello, Corey Hawthorne\n"
     ]
    }
   ],
   "source": [
    "# python 2 multiple variable formatting\n",
    "first_name = \"Corey\"\n",
    "last_name = \"Hawthorne\"\n",
    "print( \"Hello, %s %s\" % (first_name, last_name))\n",
    "# surround the variables in parenthesis"
   ]
  },
  {
   "cell_type": "code",
   "execution_count": 20,
   "metadata": {},
   "outputs": [
    {
     "name": "stdout",
     "output_type": "stream",
     "text": [
      "H\n",
      "e\n",
      "o\n"
     ]
    }
   ],
   "source": [
    "# using indexes to print each element\n",
    "word = \"Hello\"\n",
    "print( word [ 0 ])     # will output 'H'\n",
    "print( word [ 1 ])     # will output 'e'\n",
    "print( word [ -1 ])     # will output 'o'"
   ]
  },
  {
   "cell_type": "code",
   "execution_count": 21,
   "metadata": {},
   "outputs": [
    {
     "name": "stdout",
     "output_type": "stream",
     "text": [
      "He\n"
     ]
    }
   ],
   "source": [
    "word = \"Hello\"\n",
    "print( word[ 0 : 2 ])    # will output 'He'"
   ]
  },
  {
   "cell_type": "code",
   "execution_count": 22,
   "metadata": {},
   "outputs": [
    {
     "name": "stdout",
     "output_type": "stream",
     "text": [
      "Hlo\n"
     ]
    }
   ],
   "source": [
    "word = \"Hello\"\n",
    "print( word[ 0 : 5 : 2 ])  # will output 'Hlo'"
   ]
  },
  {
   "cell_type": "code",
   "execution_count": 23,
   "metadata": {},
   "outputs": [
    {
     "name": "stdout",
     "output_type": "stream",
     "text": [
      "23 4.5 False Corey\n"
     ]
    }
   ],
   "source": [
    "# Wednesday Excercises Chapter 2\n",
    "num_1 = \"23\"\n",
    "num_2 = \"4.5\"\n",
    "nah = False\n",
    "name = \"Corey\"\n",
    "print (num_1, num_2, nah, name)"
   ]
  },
  {
   "cell_type": "code",
   "execution_count": 24,
   "metadata": {},
   "outputs": [
    {
     "name": "stdout",
     "output_type": "stream",
     "text": [
      "Corey's favorite sport is basketball.\n"
     ]
    }
   ],
   "source": [
    "name = \"Corey\"\n",
    "print( \"{}'s favorite sport is {}.\".format( \"Corey\",\"basketball\") )"
   ]
  },
  {
   "cell_type": "code",
   "execution_count": 26,
   "metadata": {},
   "outputs": [
    {
     "name": "stdout",
     "output_type": "stream",
     "text": [
      "Corey is working on Python programming!\n"
     ]
    }
   ],
   "source": [
    "name = \"Corey\"\n",
    "print( \"{} is working on {} programming!\".format( \"Corey\", \"Python\"))"
   ]
  },
  {
   "cell_type": "markdown",
   "metadata": {},
   "source": [
    "## Manipulating Strings"
   ]
  },
  {
   "cell_type": "code",
   "execution_count": 29,
   "metadata": {},
   "outputs": [
    {
     "name": "stdout",
     "output_type": "stream",
     "text": [
      "Corey Hawthorne\n"
     ]
    }
   ],
   "source": [
    "# using the title method to captialize a string\n",
    "name = \"corey hawthorne\"\n",
    "print( name.title() )"
   ]
  },
  {
   "cell_type": "code",
   "execution_count": 30,
   "metadata": {},
   "outputs": [
    {
     "name": "stdout",
     "output_type": "stream",
     "text": [
      "Hello there.\n"
     ]
    }
   ],
   "source": [
    "# replacing an exclamation point with a period\n",
    "words = \"Hello there!\"\n",
    "print ( words.replace( \"!\", \".\"))"
   ]
  },
  {
   "cell_type": "code",
   "execution_count": 31,
   "metadata": {},
   "outputs": [
    {
     "name": "stdout",
     "output_type": "stream",
     "text": [
      "5\n"
     ]
    }
   ],
   "source": [
    "# finding the starting index of our searched term\n",
    "s = \"Look over that way\"\n",
    "print( s.find(\"over\"))"
   ]
  },
  {
   "cell_type": "code",
   "execution_count": 36,
   "metadata": {},
   "outputs": [
    {
     "name": "stdout",
     "output_type": "stream",
     "text": [
      "Corey     Corey\n"
     ]
    }
   ],
   "source": [
    "# removing whte spaces with strip\n",
    "name = \"  Corey  \"\n",
    "print( name.lstrip(), name.rstrip() )"
   ]
  },
  {
   "cell_type": "code",
   "execution_count": 37,
   "metadata": {},
   "outputs": [
    {
     "name": "stdout",
     "output_type": "stream",
     "text": [
      "['These', 'words', 'are', 'separated', 'by', 'spaces']\n"
     ]
    }
   ],
   "source": [
    "# converting a string into a list of words\n",
    "s = \"These words are separated by spaces\"\n",
    "print( s.split(\" \") )"
   ]
  },
  {
   "cell_type": "code",
   "execution_count": 38,
   "metadata": {},
   "outputs": [
    {
     "name": "stdout",
     "output_type": "stream",
     "text": [
      "UPPERCASE\n"
     ]
    }
   ],
   "source": [
    "word = \"uppercase\"\n",
    "print( word.upper() )"
   ]
  },
  {
   "cell_type": "code",
   "execution_count": 3,
   "metadata": {},
   "outputs": [
    {
     "name": "stdout",
     "output_type": "stream",
     "text": [
      "Corey\n"
     ]
    }
   ],
   "source": [
    "name = \"$$Corey\"\n",
    "print( name.lstrip(\"$\") )"
   ]
  },
  {
   "cell_type": "markdown",
   "metadata": {},
   "source": [
    "## Friday Project: Printing Receipts"
   ]
  },
  {
   "cell_type": "code",
   "execution_count": 44,
   "metadata": {},
   "outputs": [
    {
     "name": "stdout",
     "output_type": "stream",
     "text": [
      "**************************************************\n",
      "\t\t Corey'S Kitchen\n",
      "\t\t 283 Jenkins St.\n",
      "\t\t Raliegh, NC\n",
      "==================================================\n",
      "\tProduct Name\tProduct Price\n",
      "\t Soup\t\t$ 8.50 \n",
      "\t Chicken Pasta\t$ 12.99 \n",
      "\t Cobb Salad\t$ 14.50\n",
      "==================================================\n",
      "\t\t\tTotal\n",
      "\t\t\t$35.99\n",
      "==================================================\n",
      "\n",
      "\tThanks for shopping with us today!\n",
      "\n",
      "**************************************************\n"
     ]
    }
   ],
   "source": [
    "# create a product and price for three items\n",
    "p1_name, p1_price = \"Soup\", 8.50\n",
    "p2_name, p2_price = \"Chicken Pasta\", 12.99\n",
    "p3_name, p3_price = \"Million Dollar Cobb Salad\" , 14.50\n",
    "\n",
    "# create a company name and information\n",
    "company_name = \"corey's kitchen\"\n",
    "company_address = \"283 Jenkins St.\"\n",
    "company_city = \"Raleigh, NC\"\n",
    "\n",
    "# declare ending message\n",
    "message = \"Thanks for shopping with us today!\"\n",
    "\n",
    "#create a top border\n",
    "print( \"*\" * 50)\n",
    "\n",
    "# print company information first, using format\n",
    "print(\"\\t\\t corey's kitchen\".title() )\n",
    "print(\"\\t\\t 283 Jenkins St.\")\n",
    "print(\"\\t\\t Raliegh, NC\")\n",
    "\n",
    "#print a line between sections\n",
    "print( \"=\" * 50 )\n",
    "\n",
    "# print out header for section of items\n",
    "print(\"\\tProduct Name\\tProduct Price\")\n",
    "\n",
    "# create a print statement for each product\n",
    "print( \"\\t Soup\\t\\t$ 8.50 \") \n",
    "print( \"\\t Chicken Pasta\\t$ 12.99 \")\n",
    "print( \"\\t Cobb Salad\\t$ 14.50\")\n",
    "\n",
    "#print a line between sections\n",
    "print( '=' * 50)\n",
    "\n",
    "# print out header for section of total\n",
    "print(\"\\t\\t\\tTotal\")\n",
    "\n",
    "#calculate total price and print out\n",
    "total = p1_price + p2_price + p3_price\n",
    "print (\"\\t\\t\\t${}\".format(total) )\n",
    "\n",
    "#print a line between sections\n",
    "print( '=' * 50 )\n",
    "\n",
    "# output thank you meesage\n",
    "print( \"\\n\\t{}\\n\".format(message) )\n",
    "\n",
    "# create a bottom border\n",
    "print( \"*\" * 50)"
   ]
  },
  {
   "cell_type": "code",
   "execution_count": null,
   "metadata": {},
   "outputs": [],
   "source": []
  },
  {
   "cell_type": "code",
   "execution_count": null,
   "metadata": {},
   "outputs": [],
   "source": []
  }
 ],
 "metadata": {
  "kernelspec": {
   "display_name": "Python 3",
   "language": "python",
   "name": "python3"
  },
  "language_info": {
   "codemirror_mode": {
    "name": "ipython",
    "version": 3
   },
   "file_extension": ".py",
   "mimetype": "text/x-python",
   "name": "python",
   "nbconvert_exporter": "python",
   "pygments_lexer": "ipython3",
   "version": "3.8.5"
  }
 },
 "nbformat": 4,
 "nbformat_minor": 4
}
